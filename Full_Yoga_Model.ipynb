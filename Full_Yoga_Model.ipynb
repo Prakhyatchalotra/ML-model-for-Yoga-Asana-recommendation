{
  "cells": [
    {
      "cell_type": "code",
      "execution_count": 1,
      "metadata": {
        "id": "MlDLIKbREO1_"
      },
      "outputs": [],
      "source": [
        "import gensim\n",
        "import pandas as pd\n",
        "from gensim.models import Word2Vec"
      ]
    },
    {
      "cell_type": "code",
      "execution_count": 2,
      "metadata": {
        "id": "1zTj610zEfu6"
      },
      "outputs": [],
      "source": [
        "data = pd.read_csv(\"info.csv\")"
      ]
    },
    {
      "cell_type": "code",
      "source": [
        "asana_dataset = pd.read_csv('Book1.csv')"
      ],
      "metadata": {
        "id": "L29lu4wQeGDs"
      },
      "execution_count": 3,
      "outputs": []
    },
    {
      "cell_type": "code",
      "execution_count": 4,
      "metadata": {
        "id": "KyprNI5rHSDW",
        "colab": {
          "base_uri": "https://localhost:8080/",
          "height": 1000
        },
        "outputId": "cd52b15c-8ab1-4ea2-db57-83b4e5b8e269"
      },
      "outputs": [
        {
          "output_type": "execute_result",
          "data": {
            "text/plain": [
              "                                             Benefits  \\\n",
              "0   Positive effects on the musculoskeletal system...   \n",
              "1   makes your shoulders, wrists and arms strong. ...   \n",
              "2   Back bending will strengthen your back and abd...   \n",
              "3   Tones and Better Blood Circulation: The practi...   \n",
              "4   Strengthens the quadriceps, gluteus maximus, a...   \n",
              "5   Strengthens ankles, knees and legs.Roots thigh...   \n",
              "6   It is a great posture and exercise for arm bal...   \n",
              "7   Develops nervous control.Reverses the flow of ...   \n",
              "8   Strengthens and improves flexibility in the in...   \n",
              "9   Arms strengthen, core to help hold you up,glut...   \n",
              "10  The balasana yoga or the asana helps release a...   \n",
              "11  Practicing Bhairavasana lengthens the spine wh...   \n",
              "12  Relieves pain and stiffness in the neck, shoul...   \n",
              "13  Opens up the hip joints.Provides deep stretch ...   \n",
              "14  Bhujangasana is very useful to keep your back ...   \n",
              "15  Practicing Bhujapidasana can build strength in...   \n",
              "16  Improves the flexibility of the spine. Improve...   \n",
              "17  Similar to plank exercises, this asana aligns ...   \n",
              "18  This seated posture strengthens the back muscl...   \n",
              "19  In this asana, back bending will strengthen yo...   \n",
              "20  This pose is a part of Hatha yoga that improve...   \n",
              "21  relieves depression, relieves anxiety,  reliev...   \n",
              "22  Rejuvenates the spine, Improves spinal flexibi...   \n",
              "23  High Blood Pressure, anxiety,  relieves fatigu...   \n",
              "24  relieves lower back tightness, relieves lower ...   \n",
              "25  High Blood Pressure, anxiety,  relieves fatigu...   \n",
              "26   anxiety,  relieves fatigue, improves posture ...   \n",
              "27  High Blood Pressure, anxiety,  relieves fatigu...   \n",
              "28  This energy-boosting pose stretches your chest...   \n",
              "29  Crow Pose and Crane Pose improve focus, and st...   \n",
              "30  Boosts confidence and helps treat depression, ...   \n",
              "31  Improves the digestive system.Strengthens the ...   \n",
              "32  Strengthens and improves flexibility in the in...   \n",
              "33  This seated posture strengthens the back muscl...   \n",
              "34  Strengthens the back muscles\\nRelieves the tir...   \n",
              "35  Arms strengthen, core to help hold you up,glut...   \n",
              "36  Feathered Peacock improves postural and body a...   \n",
              "37  This asana induces relaxation and alleviates t...   \n",
              "\n",
              "                                            Yoga-Asan  \n",
              "0                               Adho Mukha Shvanasana  \n",
              "1                              Adho Mukha Vrikshasana  \n",
              "2                                  Akarna Dhanurasana  \n",
              "3                                          Anantasana  \n",
              "4                                        Anjaneyasana  \n",
              "5                                   Ardha Chandrasana  \n",
              "6                                  Ashtanga Namaskara  \n",
              "7                                       Astavakrasana  \n",
              "8                         Baddha Konasana/ Bhadrasana  \n",
              "9                                  Bakasana/ Kakasana  \n",
              "10                                           Balasana  \n",
              "11                          Bhairavasana/ Ankushasana  \n",
              "12                                     Bharadvajasana  \n",
              "13                                          Bhekasana  \n",
              "14                                       Bhujangasana  \n",
              "15                                      Bhujapidasana  \n",
              "16                           Bidalasana/ Marjariasana  \n",
              "17                              Chaturanga/ Dandasana  \n",
              "18                                          Dandasana  \n",
              "19                                        Dhanurasana  \n",
              "20                                        Durvasasana  \n",
              "21                   Dwi Hasta Kulpa Janu Shirshasana  \n",
              "22                           Paripurna Matsyendrasana  \n",
              "23                                       Marichyasana  \n",
              "24                          Ardha Mula Matsyendrasana  \n",
              "25                              Adho Mukha Shvanasana  \n",
              "26                            Urdhva Mukha Shvanasana  \n",
              "27                                     Chamatkarasana  \n",
              "28                                 Urdhva Dhanurasana  \n",
              "29                                           Bakasana  \n",
              "30                   Tadasana Urdhva Baddha Hastasana  \n",
              "31  Parivritta Namaskar Stiti Utthita Vayu Muktyasana  \n",
              "32                                    Gupta Padmasana  \n",
              "33                                          Dandasana  \n",
              "34                                    Setu Bandhasana  \n",
              "35  Pada Garudasana in Baddha Hasta Salamba Sarvan...  \n",
              "36                                   Picha Mayurasana  \n",
              "37                                  Hasta Gomukhasana  "
            ],
            "text/html": [
              "\n",
              "  <div id=\"df-f0b459c5-4a30-4ba6-9b7d-c1261fc5c66d\">\n",
              "    <div class=\"colab-df-container\">\n",
              "      <div>\n",
              "<style scoped>\n",
              "    .dataframe tbody tr th:only-of-type {\n",
              "        vertical-align: middle;\n",
              "    }\n",
              "\n",
              "    .dataframe tbody tr th {\n",
              "        vertical-align: top;\n",
              "    }\n",
              "\n",
              "    .dataframe thead th {\n",
              "        text-align: right;\n",
              "    }\n",
              "</style>\n",
              "<table border=\"1\" class=\"dataframe\">\n",
              "  <thead>\n",
              "    <tr style=\"text-align: right;\">\n",
              "      <th></th>\n",
              "      <th>Benefits</th>\n",
              "      <th>Yoga-Asan</th>\n",
              "    </tr>\n",
              "  </thead>\n",
              "  <tbody>\n",
              "    <tr>\n",
              "      <th>0</th>\n",
              "      <td>Positive effects on the musculoskeletal system...</td>\n",
              "      <td>Adho Mukha Shvanasana</td>\n",
              "    </tr>\n",
              "    <tr>\n",
              "      <th>1</th>\n",
              "      <td>makes your shoulders, wrists and arms strong. ...</td>\n",
              "      <td>Adho Mukha Vrikshasana</td>\n",
              "    </tr>\n",
              "    <tr>\n",
              "      <th>2</th>\n",
              "      <td>Back bending will strengthen your back and abd...</td>\n",
              "      <td>Akarna Dhanurasana</td>\n",
              "    </tr>\n",
              "    <tr>\n",
              "      <th>3</th>\n",
              "      <td>Tones and Better Blood Circulation: The practi...</td>\n",
              "      <td>Anantasana</td>\n",
              "    </tr>\n",
              "    <tr>\n",
              "      <th>4</th>\n",
              "      <td>Strengthens the quadriceps, gluteus maximus, a...</td>\n",
              "      <td>Anjaneyasana</td>\n",
              "    </tr>\n",
              "    <tr>\n",
              "      <th>5</th>\n",
              "      <td>Strengthens ankles, knees and legs.Roots thigh...</td>\n",
              "      <td>Ardha Chandrasana</td>\n",
              "    </tr>\n",
              "    <tr>\n",
              "      <th>6</th>\n",
              "      <td>It is a great posture and exercise for arm bal...</td>\n",
              "      <td>Ashtanga Namaskara</td>\n",
              "    </tr>\n",
              "    <tr>\n",
              "      <th>7</th>\n",
              "      <td>Develops nervous control.Reverses the flow of ...</td>\n",
              "      <td>Astavakrasana</td>\n",
              "    </tr>\n",
              "    <tr>\n",
              "      <th>8</th>\n",
              "      <td>Strengthens and improves flexibility in the in...</td>\n",
              "      <td>Baddha Konasana/ Bhadrasana</td>\n",
              "    </tr>\n",
              "    <tr>\n",
              "      <th>9</th>\n",
              "      <td>Arms strengthen, core to help hold you up,glut...</td>\n",
              "      <td>Bakasana/ Kakasana</td>\n",
              "    </tr>\n",
              "    <tr>\n",
              "      <th>10</th>\n",
              "      <td>The balasana yoga or the asana helps release a...</td>\n",
              "      <td>Balasana</td>\n",
              "    </tr>\n",
              "    <tr>\n",
              "      <th>11</th>\n",
              "      <td>Practicing Bhairavasana lengthens the spine wh...</td>\n",
              "      <td>Bhairavasana/ Ankushasana</td>\n",
              "    </tr>\n",
              "    <tr>\n",
              "      <th>12</th>\n",
              "      <td>Relieves pain and stiffness in the neck, shoul...</td>\n",
              "      <td>Bharadvajasana</td>\n",
              "    </tr>\n",
              "    <tr>\n",
              "      <th>13</th>\n",
              "      <td>Opens up the hip joints.Provides deep stretch ...</td>\n",
              "      <td>Bhekasana</td>\n",
              "    </tr>\n",
              "    <tr>\n",
              "      <th>14</th>\n",
              "      <td>Bhujangasana is very useful to keep your back ...</td>\n",
              "      <td>Bhujangasana</td>\n",
              "    </tr>\n",
              "    <tr>\n",
              "      <th>15</th>\n",
              "      <td>Practicing Bhujapidasana can build strength in...</td>\n",
              "      <td>Bhujapidasana</td>\n",
              "    </tr>\n",
              "    <tr>\n",
              "      <th>16</th>\n",
              "      <td>Improves the flexibility of the spine. Improve...</td>\n",
              "      <td>Bidalasana/ Marjariasana</td>\n",
              "    </tr>\n",
              "    <tr>\n",
              "      <th>17</th>\n",
              "      <td>Similar to plank exercises, this asana aligns ...</td>\n",
              "      <td>Chaturanga/ Dandasana</td>\n",
              "    </tr>\n",
              "    <tr>\n",
              "      <th>18</th>\n",
              "      <td>This seated posture strengthens the back muscl...</td>\n",
              "      <td>Dandasana</td>\n",
              "    </tr>\n",
              "    <tr>\n",
              "      <th>19</th>\n",
              "      <td>In this asana, back bending will strengthen yo...</td>\n",
              "      <td>Dhanurasana</td>\n",
              "    </tr>\n",
              "    <tr>\n",
              "      <th>20</th>\n",
              "      <td>This pose is a part of Hatha yoga that improve...</td>\n",
              "      <td>Durvasasana</td>\n",
              "    </tr>\n",
              "    <tr>\n",
              "      <th>21</th>\n",
              "      <td>relieves depression, relieves anxiety,  reliev...</td>\n",
              "      <td>Dwi Hasta Kulpa Janu Shirshasana</td>\n",
              "    </tr>\n",
              "    <tr>\n",
              "      <th>22</th>\n",
              "      <td>Rejuvenates the spine, Improves spinal flexibi...</td>\n",
              "      <td>Paripurna Matsyendrasana</td>\n",
              "    </tr>\n",
              "    <tr>\n",
              "      <th>23</th>\n",
              "      <td>High Blood Pressure, anxiety,  relieves fatigu...</td>\n",
              "      <td>Marichyasana</td>\n",
              "    </tr>\n",
              "    <tr>\n",
              "      <th>24</th>\n",
              "      <td>relieves lower back tightness, relieves lower ...</td>\n",
              "      <td>Ardha Mula Matsyendrasana</td>\n",
              "    </tr>\n",
              "    <tr>\n",
              "      <th>25</th>\n",
              "      <td>High Blood Pressure, anxiety,  relieves fatigu...</td>\n",
              "      <td>Adho Mukha Shvanasana</td>\n",
              "    </tr>\n",
              "    <tr>\n",
              "      <th>26</th>\n",
              "      <td>anxiety,  relieves fatigue, improves posture ...</td>\n",
              "      <td>Urdhva Mukha Shvanasana</td>\n",
              "    </tr>\n",
              "    <tr>\n",
              "      <th>27</th>\n",
              "      <td>High Blood Pressure, anxiety,  relieves fatigu...</td>\n",
              "      <td>Chamatkarasana</td>\n",
              "    </tr>\n",
              "    <tr>\n",
              "      <th>28</th>\n",
              "      <td>This energy-boosting pose stretches your chest...</td>\n",
              "      <td>Urdhva Dhanurasana</td>\n",
              "    </tr>\n",
              "    <tr>\n",
              "      <th>29</th>\n",
              "      <td>Crow Pose and Crane Pose improve focus, and st...</td>\n",
              "      <td>Bakasana</td>\n",
              "    </tr>\n",
              "    <tr>\n",
              "      <th>30</th>\n",
              "      <td>Boosts confidence and helps treat depression, ...</td>\n",
              "      <td>Tadasana Urdhva Baddha Hastasana</td>\n",
              "    </tr>\n",
              "    <tr>\n",
              "      <th>31</th>\n",
              "      <td>Improves the digestive system.Strengthens the ...</td>\n",
              "      <td>Parivritta Namaskar Stiti Utthita Vayu Muktyasana</td>\n",
              "    </tr>\n",
              "    <tr>\n",
              "      <th>32</th>\n",
              "      <td>Strengthens and improves flexibility in the in...</td>\n",
              "      <td>Gupta Padmasana</td>\n",
              "    </tr>\n",
              "    <tr>\n",
              "      <th>33</th>\n",
              "      <td>This seated posture strengthens the back muscl...</td>\n",
              "      <td>Dandasana</td>\n",
              "    </tr>\n",
              "    <tr>\n",
              "      <th>34</th>\n",
              "      <td>Strengthens the back muscles\\nRelieves the tir...</td>\n",
              "      <td>Setu Bandhasana</td>\n",
              "    </tr>\n",
              "    <tr>\n",
              "      <th>35</th>\n",
              "      <td>Arms strengthen, core to help hold you up,glut...</td>\n",
              "      <td>Pada Garudasana in Baddha Hasta Salamba Sarvan...</td>\n",
              "    </tr>\n",
              "    <tr>\n",
              "      <th>36</th>\n",
              "      <td>Feathered Peacock improves postural and body a...</td>\n",
              "      <td>Picha Mayurasana</td>\n",
              "    </tr>\n",
              "    <tr>\n",
              "      <th>37</th>\n",
              "      <td>This asana induces relaxation and alleviates t...</td>\n",
              "      <td>Hasta Gomukhasana</td>\n",
              "    </tr>\n",
              "  </tbody>\n",
              "</table>\n",
              "</div>\n",
              "      <button class=\"colab-df-convert\" onclick=\"convertToInteractive('df-f0b459c5-4a30-4ba6-9b7d-c1261fc5c66d')\"\n",
              "              title=\"Convert this dataframe to an interactive table.\"\n",
              "              style=\"display:none;\">\n",
              "        \n",
              "  <svg xmlns=\"http://www.w3.org/2000/svg\" height=\"24px\"viewBox=\"0 0 24 24\"\n",
              "       width=\"24px\">\n",
              "    <path d=\"M0 0h24v24H0V0z\" fill=\"none\"/>\n",
              "    <path d=\"M18.56 5.44l.94 2.06.94-2.06 2.06-.94-2.06-.94-.94-2.06-.94 2.06-2.06.94zm-11 1L8.5 8.5l.94-2.06 2.06-.94-2.06-.94L8.5 2.5l-.94 2.06-2.06.94zm10 10l.94 2.06.94-2.06 2.06-.94-2.06-.94-.94-2.06-.94 2.06-2.06.94z\"/><path d=\"M17.41 7.96l-1.37-1.37c-.4-.4-.92-.59-1.43-.59-.52 0-1.04.2-1.43.59L10.3 9.45l-7.72 7.72c-.78.78-.78 2.05 0 2.83L4 21.41c.39.39.9.59 1.41.59.51 0 1.02-.2 1.41-.59l7.78-7.78 2.81-2.81c.8-.78.8-2.07 0-2.86zM5.41 20L4 18.59l7.72-7.72 1.47 1.35L5.41 20z\"/>\n",
              "  </svg>\n",
              "      </button>\n",
              "      \n",
              "  <style>\n",
              "    .colab-df-container {\n",
              "      display:flex;\n",
              "      flex-wrap:wrap;\n",
              "      gap: 12px;\n",
              "    }\n",
              "\n",
              "    .colab-df-convert {\n",
              "      background-color: #E8F0FE;\n",
              "      border: none;\n",
              "      border-radius: 50%;\n",
              "      cursor: pointer;\n",
              "      display: none;\n",
              "      fill: #1967D2;\n",
              "      height: 32px;\n",
              "      padding: 0 0 0 0;\n",
              "      width: 32px;\n",
              "    }\n",
              "\n",
              "    .colab-df-convert:hover {\n",
              "      background-color: #E2EBFA;\n",
              "      box-shadow: 0px 1px 2px rgba(60, 64, 67, 0.3), 0px 1px 3px 1px rgba(60, 64, 67, 0.15);\n",
              "      fill: #174EA6;\n",
              "    }\n",
              "\n",
              "    [theme=dark] .colab-df-convert {\n",
              "      background-color: #3B4455;\n",
              "      fill: #D2E3FC;\n",
              "    }\n",
              "\n",
              "    [theme=dark] .colab-df-convert:hover {\n",
              "      background-color: #434B5C;\n",
              "      box-shadow: 0px 1px 3px 1px rgba(0, 0, 0, 0.15);\n",
              "      filter: drop-shadow(0px 1px 2px rgba(0, 0, 0, 0.3));\n",
              "      fill: #FFFFFF;\n",
              "    }\n",
              "  </style>\n",
              "\n",
              "      <script>\n",
              "        const buttonEl =\n",
              "          document.querySelector('#df-f0b459c5-4a30-4ba6-9b7d-c1261fc5c66d button.colab-df-convert');\n",
              "        buttonEl.style.display =\n",
              "          google.colab.kernel.accessAllowed ? 'block' : 'none';\n",
              "\n",
              "        async function convertToInteractive(key) {\n",
              "          const element = document.querySelector('#df-f0b459c5-4a30-4ba6-9b7d-c1261fc5c66d');\n",
              "          const dataTable =\n",
              "            await google.colab.kernel.invokeFunction('convertToInteractive',\n",
              "                                                     [key], {});\n",
              "          if (!dataTable) return;\n",
              "\n",
              "          const docLinkHtml = 'Like what you see? Visit the ' +\n",
              "            '<a target=\"_blank\" href=https://colab.research.google.com/notebooks/data_table.ipynb>data table notebook</a>'\n",
              "            + ' to learn more about interactive tables.';\n",
              "          element.innerHTML = '';\n",
              "          dataTable['output_type'] = 'display_data';\n",
              "          await google.colab.output.renderOutput(dataTable, element);\n",
              "          const docLink = document.createElement('div');\n",
              "          docLink.innerHTML = docLinkHtml;\n",
              "          element.appendChild(docLink);\n",
              "        }\n",
              "      </script>\n",
              "    </div>\n",
              "  </div>\n",
              "  "
            ]
          },
          "metadata": {},
          "execution_count": 4
        }
      ],
      "source": [
        "data"
      ]
    },
    {
      "cell_type": "code",
      "source": [
        "asana_dataset['asanas']"
      ],
      "metadata": {
        "id": "sOYUttr4ee0B",
        "colab": {
          "base_uri": "https://localhost:8080/"
        },
        "outputId": "8ef56b33-f94e-49eb-e61c-88b9ad93c9bd"
      },
      "execution_count": 5,
      "outputs": [
        {
          "output_type": "execute_result",
          "data": {
            "text/plain": [
              "0         Shvanasana\n",
              "1        Vrikshasana\n",
              "2        Dhanurasana\n",
              "3         Anantasana\n",
              "4       Anjaneyasana\n",
              "5        Chandrasana\n",
              "6          Namaskara\n",
              "7      Astavakrasana\n",
              "8           Konasana\n",
              "9           Kakasana\n",
              "10          Balasana\n",
              "11       Ankushasana\n",
              "12    Bharadvajasana\n",
              "13         Bhekasana\n",
              "14      Bhujangasana\n",
              "15     Bhujapidasana\n",
              "16        Bidalasana\n",
              "17        Chaturanga\n",
              "18         Dandasana\n",
              "19       Dhanurasana\n",
              "20       Durvasasana\n",
              "21       Shirshasana\n",
              "22    Matsyendrasana\n",
              "23      Marichyasana\n",
              "24    Matsyendrasana\n",
              "25        Shvanasana\n",
              "26        Shvanasana\n",
              "27    Chamatkarasana\n",
              "28       Dhanurasana\n",
              "29          Bakasana\n",
              "30         Hastasana\n",
              "31        Muktyasana\n",
              "32         Padmasana\n",
              "33         Dandasana\n",
              "34        Bandhasana\n",
              "35      Sarvangasana\n",
              "36        Mayurasana\n",
              "37       Gomukhasana\n",
              "Name: asanas, dtype: object"
            ]
          },
          "metadata": {},
          "execution_count": 5
        }
      ]
    },
    {
      "cell_type": "code",
      "execution_count": 6,
      "metadata": {
        "id": "EQCPw3x1VHkb",
        "colab": {
          "base_uri": "https://localhost:8080/"
        },
        "outputId": "5dbbc706-4dbc-41d5-abb2-1ec9677674e9"
      },
      "outputs": [
        {
          "output_type": "stream",
          "name": "stderr",
          "text": [
            "[nltk_data] Downloading package stopwords to /root/nltk_data...\n",
            "[nltk_data]   Unzipping corpora/stopwords.zip.\n"
          ]
        }
      ],
      "source": [
        "import re\n",
        "import nltk\n",
        "nltk.download('stopwords')\n",
        "from nltk.corpus import stopwords\n",
        "corpus = []\n",
        "for i in range(0, 38):\n",
        "  processed_data = re.sub('[^a-zA-Z]', ' ', data['Benefits'][i])\n",
        "  processed_data = processed_data.lower()\n",
        "  processed_data = processed_data.split()\n",
        "  all_stopwords = stopwords.words('english')\n",
        "  processed_data = [word for word in processed_data if not word in set(all_stopwords)]\n",
        "  processed_data = ' '.join(processed_data)\n",
        "  corpus.append(processed_data)"
      ]
    },
    {
      "cell_type": "code",
      "source": [
        "for i in range(0,38):\n",
        "  data['Benefits'][i] = corpus[i]"
      ],
      "metadata": {
        "id": "wMllkTISrTkH"
      },
      "execution_count": 7,
      "outputs": []
    },
    {
      "cell_type": "code",
      "source": [
        "data"
      ],
      "metadata": {
        "id": "mxQAZtH6rwOL",
        "colab": {
          "base_uri": "https://localhost:8080/",
          "height": 1000
        },
        "outputId": "5bef21be-7dae-4277-d9ed-2f8b970dfb7f"
      },
      "execution_count": 8,
      "outputs": [
        {
          "output_type": "execute_result",
          "data": {
            "text/plain": [
              "                                             Benefits  \\\n",
              "0   positive effects musculoskeletal system stretc...   \n",
              "1   makes shoulders wrists arms strong enhances se...   \n",
              "2   back bending strengthen back abdominal muscles...   \n",
              "3   tones better blood circulation practice ananth...   \n",
              "4   strengthens quadriceps gluteus maximus hamstri...   \n",
              "5   strengthens ankles knees legs roots thighbones...   \n",
              "6   great posture exercise arm balancing increases...   \n",
              "7   develops nervous control reverses flow apana d...   \n",
              "8   strengthens improves flexibility inner thighs ...   \n",
              "9   arms strengthen core help hold glutes adductor...   \n",
              "10  balasana yoga asana helps release tension ches...   \n",
              "11  practicing bhairavasana lengthens spine stretc...   \n",
              "12  relieves pain stiffness neck shoulders lower b...   \n",
              "13  opens hip joints provides deep stretch legs mu...   \n",
              "14  bhujangasana useful keep back healthy fit asan...   \n",
              "15  practicing bhujapidasana build strength arms s...   \n",
              "16  improves flexibility spine improves prana body...   \n",
              "17  similar plank exercises asana aligns whole bod...   \n",
              "18  seated posture strengthens back muscles improv...   \n",
              "19  asana back bending strengthen back abdominal m...   \n",
              "20  pose part hatha yoga improves mind body coordi...   \n",
              "21  relieves depression relieves anxiety relieves ...   \n",
              "22  rejuvenates spine improves spinal flexibility ...   \n",
              "23  high blood pressure anxiety relieves fatigue i...   \n",
              "24  relieves lower back tightness relieves lower b...   \n",
              "25  high blood pressure anxiety relieves fatigue i...   \n",
              "26  anxiety relieves fatigue improves posture impr...   \n",
              "27  high blood pressure anxiety relieves fatigue i...   \n",
              "28  energy boosting pose stretches chest lungs als...   \n",
              "29  crow pose crane pose improve focus stretch but...   \n",
              "30  boosts confidence helps treat depression relie...   \n",
              "31  improves digestive system strengthens abdomina...   \n",
              "32  strengthens improves flexibility inner thighs ...   \n",
              "33  seated posture strengthens back muscles improv...   \n",
              "34  strengthens back muscles relieves tired back i...   \n",
              "35  arms strengthen core help hold glutes adductor...   \n",
              "36  feathered peacock improves postural body aware...   \n",
              "37  asana induces relaxation alleviates tiredness ...   \n",
              "\n",
              "                                            Yoga-Asan  \n",
              "0                               Adho Mukha Shvanasana  \n",
              "1                              Adho Mukha Vrikshasana  \n",
              "2                                  Akarna Dhanurasana  \n",
              "3                                          Anantasana  \n",
              "4                                        Anjaneyasana  \n",
              "5                                   Ardha Chandrasana  \n",
              "6                                  Ashtanga Namaskara  \n",
              "7                                       Astavakrasana  \n",
              "8                         Baddha Konasana/ Bhadrasana  \n",
              "9                                  Bakasana/ Kakasana  \n",
              "10                                           Balasana  \n",
              "11                          Bhairavasana/ Ankushasana  \n",
              "12                                     Bharadvajasana  \n",
              "13                                          Bhekasana  \n",
              "14                                       Bhujangasana  \n",
              "15                                      Bhujapidasana  \n",
              "16                           Bidalasana/ Marjariasana  \n",
              "17                              Chaturanga/ Dandasana  \n",
              "18                                          Dandasana  \n",
              "19                                        Dhanurasana  \n",
              "20                                        Durvasasana  \n",
              "21                   Dwi Hasta Kulpa Janu Shirshasana  \n",
              "22                           Paripurna Matsyendrasana  \n",
              "23                                       Marichyasana  \n",
              "24                          Ardha Mula Matsyendrasana  \n",
              "25                              Adho Mukha Shvanasana  \n",
              "26                            Urdhva Mukha Shvanasana  \n",
              "27                                     Chamatkarasana  \n",
              "28                                 Urdhva Dhanurasana  \n",
              "29                                           Bakasana  \n",
              "30                   Tadasana Urdhva Baddha Hastasana  \n",
              "31  Parivritta Namaskar Stiti Utthita Vayu Muktyasana  \n",
              "32                                    Gupta Padmasana  \n",
              "33                                          Dandasana  \n",
              "34                                    Setu Bandhasana  \n",
              "35  Pada Garudasana in Baddha Hasta Salamba Sarvan...  \n",
              "36                                   Picha Mayurasana  \n",
              "37                                  Hasta Gomukhasana  "
            ],
            "text/html": [
              "\n",
              "  <div id=\"df-8fbb5d81-0cf0-4ab9-8b64-28132defce2f\">\n",
              "    <div class=\"colab-df-container\">\n",
              "      <div>\n",
              "<style scoped>\n",
              "    .dataframe tbody tr th:only-of-type {\n",
              "        vertical-align: middle;\n",
              "    }\n",
              "\n",
              "    .dataframe tbody tr th {\n",
              "        vertical-align: top;\n",
              "    }\n",
              "\n",
              "    .dataframe thead th {\n",
              "        text-align: right;\n",
              "    }\n",
              "</style>\n",
              "<table border=\"1\" class=\"dataframe\">\n",
              "  <thead>\n",
              "    <tr style=\"text-align: right;\">\n",
              "      <th></th>\n",
              "      <th>Benefits</th>\n",
              "      <th>Yoga-Asan</th>\n",
              "    </tr>\n",
              "  </thead>\n",
              "  <tbody>\n",
              "    <tr>\n",
              "      <th>0</th>\n",
              "      <td>positive effects musculoskeletal system stretc...</td>\n",
              "      <td>Adho Mukha Shvanasana</td>\n",
              "    </tr>\n",
              "    <tr>\n",
              "      <th>1</th>\n",
              "      <td>makes shoulders wrists arms strong enhances se...</td>\n",
              "      <td>Adho Mukha Vrikshasana</td>\n",
              "    </tr>\n",
              "    <tr>\n",
              "      <th>2</th>\n",
              "      <td>back bending strengthen back abdominal muscles...</td>\n",
              "      <td>Akarna Dhanurasana</td>\n",
              "    </tr>\n",
              "    <tr>\n",
              "      <th>3</th>\n",
              "      <td>tones better blood circulation practice ananth...</td>\n",
              "      <td>Anantasana</td>\n",
              "    </tr>\n",
              "    <tr>\n",
              "      <th>4</th>\n",
              "      <td>strengthens quadriceps gluteus maximus hamstri...</td>\n",
              "      <td>Anjaneyasana</td>\n",
              "    </tr>\n",
              "    <tr>\n",
              "      <th>5</th>\n",
              "      <td>strengthens ankles knees legs roots thighbones...</td>\n",
              "      <td>Ardha Chandrasana</td>\n",
              "    </tr>\n",
              "    <tr>\n",
              "      <th>6</th>\n",
              "      <td>great posture exercise arm balancing increases...</td>\n",
              "      <td>Ashtanga Namaskara</td>\n",
              "    </tr>\n",
              "    <tr>\n",
              "      <th>7</th>\n",
              "      <td>develops nervous control reverses flow apana d...</td>\n",
              "      <td>Astavakrasana</td>\n",
              "    </tr>\n",
              "    <tr>\n",
              "      <th>8</th>\n",
              "      <td>strengthens improves flexibility inner thighs ...</td>\n",
              "      <td>Baddha Konasana/ Bhadrasana</td>\n",
              "    </tr>\n",
              "    <tr>\n",
              "      <th>9</th>\n",
              "      <td>arms strengthen core help hold glutes adductor...</td>\n",
              "      <td>Bakasana/ Kakasana</td>\n",
              "    </tr>\n",
              "    <tr>\n",
              "      <th>10</th>\n",
              "      <td>balasana yoga asana helps release tension ches...</td>\n",
              "      <td>Balasana</td>\n",
              "    </tr>\n",
              "    <tr>\n",
              "      <th>11</th>\n",
              "      <td>practicing bhairavasana lengthens spine stretc...</td>\n",
              "      <td>Bhairavasana/ Ankushasana</td>\n",
              "    </tr>\n",
              "    <tr>\n",
              "      <th>12</th>\n",
              "      <td>relieves pain stiffness neck shoulders lower b...</td>\n",
              "      <td>Bharadvajasana</td>\n",
              "    </tr>\n",
              "    <tr>\n",
              "      <th>13</th>\n",
              "      <td>opens hip joints provides deep stretch legs mu...</td>\n",
              "      <td>Bhekasana</td>\n",
              "    </tr>\n",
              "    <tr>\n",
              "      <th>14</th>\n",
              "      <td>bhujangasana useful keep back healthy fit asan...</td>\n",
              "      <td>Bhujangasana</td>\n",
              "    </tr>\n",
              "    <tr>\n",
              "      <th>15</th>\n",
              "      <td>practicing bhujapidasana build strength arms s...</td>\n",
              "      <td>Bhujapidasana</td>\n",
              "    </tr>\n",
              "    <tr>\n",
              "      <th>16</th>\n",
              "      <td>improves flexibility spine improves prana body...</td>\n",
              "      <td>Bidalasana/ Marjariasana</td>\n",
              "    </tr>\n",
              "    <tr>\n",
              "      <th>17</th>\n",
              "      <td>similar plank exercises asana aligns whole bod...</td>\n",
              "      <td>Chaturanga/ Dandasana</td>\n",
              "    </tr>\n",
              "    <tr>\n",
              "      <th>18</th>\n",
              "      <td>seated posture strengthens back muscles improv...</td>\n",
              "      <td>Dandasana</td>\n",
              "    </tr>\n",
              "    <tr>\n",
              "      <th>19</th>\n",
              "      <td>asana back bending strengthen back abdominal m...</td>\n",
              "      <td>Dhanurasana</td>\n",
              "    </tr>\n",
              "    <tr>\n",
              "      <th>20</th>\n",
              "      <td>pose part hatha yoga improves mind body coordi...</td>\n",
              "      <td>Durvasasana</td>\n",
              "    </tr>\n",
              "    <tr>\n",
              "      <th>21</th>\n",
              "      <td>relieves depression relieves anxiety relieves ...</td>\n",
              "      <td>Dwi Hasta Kulpa Janu Shirshasana</td>\n",
              "    </tr>\n",
              "    <tr>\n",
              "      <th>22</th>\n",
              "      <td>rejuvenates spine improves spinal flexibility ...</td>\n",
              "      <td>Paripurna Matsyendrasana</td>\n",
              "    </tr>\n",
              "    <tr>\n",
              "      <th>23</th>\n",
              "      <td>high blood pressure anxiety relieves fatigue i...</td>\n",
              "      <td>Marichyasana</td>\n",
              "    </tr>\n",
              "    <tr>\n",
              "      <th>24</th>\n",
              "      <td>relieves lower back tightness relieves lower b...</td>\n",
              "      <td>Ardha Mula Matsyendrasana</td>\n",
              "    </tr>\n",
              "    <tr>\n",
              "      <th>25</th>\n",
              "      <td>high blood pressure anxiety relieves fatigue i...</td>\n",
              "      <td>Adho Mukha Shvanasana</td>\n",
              "    </tr>\n",
              "    <tr>\n",
              "      <th>26</th>\n",
              "      <td>anxiety relieves fatigue improves posture impr...</td>\n",
              "      <td>Urdhva Mukha Shvanasana</td>\n",
              "    </tr>\n",
              "    <tr>\n",
              "      <th>27</th>\n",
              "      <td>high blood pressure anxiety relieves fatigue i...</td>\n",
              "      <td>Chamatkarasana</td>\n",
              "    </tr>\n",
              "    <tr>\n",
              "      <th>28</th>\n",
              "      <td>energy boosting pose stretches chest lungs als...</td>\n",
              "      <td>Urdhva Dhanurasana</td>\n",
              "    </tr>\n",
              "    <tr>\n",
              "      <th>29</th>\n",
              "      <td>crow pose crane pose improve focus stretch but...</td>\n",
              "      <td>Bakasana</td>\n",
              "    </tr>\n",
              "    <tr>\n",
              "      <th>30</th>\n",
              "      <td>boosts confidence helps treat depression relie...</td>\n",
              "      <td>Tadasana Urdhva Baddha Hastasana</td>\n",
              "    </tr>\n",
              "    <tr>\n",
              "      <th>31</th>\n",
              "      <td>improves digestive system strengthens abdomina...</td>\n",
              "      <td>Parivritta Namaskar Stiti Utthita Vayu Muktyasana</td>\n",
              "    </tr>\n",
              "    <tr>\n",
              "      <th>32</th>\n",
              "      <td>strengthens improves flexibility inner thighs ...</td>\n",
              "      <td>Gupta Padmasana</td>\n",
              "    </tr>\n",
              "    <tr>\n",
              "      <th>33</th>\n",
              "      <td>seated posture strengthens back muscles improv...</td>\n",
              "      <td>Dandasana</td>\n",
              "    </tr>\n",
              "    <tr>\n",
              "      <th>34</th>\n",
              "      <td>strengthens back muscles relieves tired back i...</td>\n",
              "      <td>Setu Bandhasana</td>\n",
              "    </tr>\n",
              "    <tr>\n",
              "      <th>35</th>\n",
              "      <td>arms strengthen core help hold glutes adductor...</td>\n",
              "      <td>Pada Garudasana in Baddha Hasta Salamba Sarvan...</td>\n",
              "    </tr>\n",
              "    <tr>\n",
              "      <th>36</th>\n",
              "      <td>feathered peacock improves postural body aware...</td>\n",
              "      <td>Picha Mayurasana</td>\n",
              "    </tr>\n",
              "    <tr>\n",
              "      <th>37</th>\n",
              "      <td>asana induces relaxation alleviates tiredness ...</td>\n",
              "      <td>Hasta Gomukhasana</td>\n",
              "    </tr>\n",
              "  </tbody>\n",
              "</table>\n",
              "</div>\n",
              "      <button class=\"colab-df-convert\" onclick=\"convertToInteractive('df-8fbb5d81-0cf0-4ab9-8b64-28132defce2f')\"\n",
              "              title=\"Convert this dataframe to an interactive table.\"\n",
              "              style=\"display:none;\">\n",
              "        \n",
              "  <svg xmlns=\"http://www.w3.org/2000/svg\" height=\"24px\"viewBox=\"0 0 24 24\"\n",
              "       width=\"24px\">\n",
              "    <path d=\"M0 0h24v24H0V0z\" fill=\"none\"/>\n",
              "    <path d=\"M18.56 5.44l.94 2.06.94-2.06 2.06-.94-2.06-.94-.94-2.06-.94 2.06-2.06.94zm-11 1L8.5 8.5l.94-2.06 2.06-.94-2.06-.94L8.5 2.5l-.94 2.06-2.06.94zm10 10l.94 2.06.94-2.06 2.06-.94-2.06-.94-.94-2.06-.94 2.06-2.06.94z\"/><path d=\"M17.41 7.96l-1.37-1.37c-.4-.4-.92-.59-1.43-.59-.52 0-1.04.2-1.43.59L10.3 9.45l-7.72 7.72c-.78.78-.78 2.05 0 2.83L4 21.41c.39.39.9.59 1.41.59.51 0 1.02-.2 1.41-.59l7.78-7.78 2.81-2.81c.8-.78.8-2.07 0-2.86zM5.41 20L4 18.59l7.72-7.72 1.47 1.35L5.41 20z\"/>\n",
              "  </svg>\n",
              "      </button>\n",
              "      \n",
              "  <style>\n",
              "    .colab-df-container {\n",
              "      display:flex;\n",
              "      flex-wrap:wrap;\n",
              "      gap: 12px;\n",
              "    }\n",
              "\n",
              "    .colab-df-convert {\n",
              "      background-color: #E8F0FE;\n",
              "      border: none;\n",
              "      border-radius: 50%;\n",
              "      cursor: pointer;\n",
              "      display: none;\n",
              "      fill: #1967D2;\n",
              "      height: 32px;\n",
              "      padding: 0 0 0 0;\n",
              "      width: 32px;\n",
              "    }\n",
              "\n",
              "    .colab-df-convert:hover {\n",
              "      background-color: #E2EBFA;\n",
              "      box-shadow: 0px 1px 2px rgba(60, 64, 67, 0.3), 0px 1px 3px 1px rgba(60, 64, 67, 0.15);\n",
              "      fill: #174EA6;\n",
              "    }\n",
              "\n",
              "    [theme=dark] .colab-df-convert {\n",
              "      background-color: #3B4455;\n",
              "      fill: #D2E3FC;\n",
              "    }\n",
              "\n",
              "    [theme=dark] .colab-df-convert:hover {\n",
              "      background-color: #434B5C;\n",
              "      box-shadow: 0px 1px 3px 1px rgba(0, 0, 0, 0.15);\n",
              "      filter: drop-shadow(0px 1px 2px rgba(0, 0, 0, 0.3));\n",
              "      fill: #FFFFFF;\n",
              "    }\n",
              "  </style>\n",
              "\n",
              "      <script>\n",
              "        const buttonEl =\n",
              "          document.querySelector('#df-8fbb5d81-0cf0-4ab9-8b64-28132defce2f button.colab-df-convert');\n",
              "        buttonEl.style.display =\n",
              "          google.colab.kernel.accessAllowed ? 'block' : 'none';\n",
              "\n",
              "        async function convertToInteractive(key) {\n",
              "          const element = document.querySelector('#df-8fbb5d81-0cf0-4ab9-8b64-28132defce2f');\n",
              "          const dataTable =\n",
              "            await google.colab.kernel.invokeFunction('convertToInteractive',\n",
              "                                                     [key], {});\n",
              "          if (!dataTable) return;\n",
              "\n",
              "          const docLinkHtml = 'Like what you see? Visit the ' +\n",
              "            '<a target=\"_blank\" href=https://colab.research.google.com/notebooks/data_table.ipynb>data table notebook</a>'\n",
              "            + ' to learn more about interactive tables.';\n",
              "          element.innerHTML = '';\n",
              "          dataTable['output_type'] = 'display_data';\n",
              "          await google.colab.output.renderOutput(dataTable, element);\n",
              "          const docLink = document.createElement('div');\n",
              "          docLink.innerHTML = docLinkHtml;\n",
              "          element.appendChild(docLink);\n",
              "        }\n",
              "      </script>\n",
              "    </div>\n",
              "  </div>\n",
              "  "
            ]
          },
          "metadata": {},
          "execution_count": 8
        }
      ]
    },
    {
      "cell_type": "code",
      "source": [
        "final = data.Benefits.apply(gensim.utils.simple_preprocess) #Convert a document into a list of lowercase tokens, ignoring tokens that are too short or too long."
      ],
      "metadata": {
        "id": "NZsNFfsztojh"
      },
      "execution_count": 9,
      "outputs": []
    },
    {
      "cell_type": "code",
      "source": [
        "final"
      ],
      "metadata": {
        "id": "xyryVlg-vWzW",
        "colab": {
          "base_uri": "https://localhost:8080/"
        },
        "outputId": "2c3e8981-6710-4ae1-998d-75d2606f0cc3"
      },
      "execution_count": 10,
      "outputs": [
        {
          "output_type": "execute_result",
          "data": {
            "text/plain": [
              "0     [positive, effects, musculoskeletal, system, s...\n",
              "1     [makes, shoulders, wrists, arms, strong, enhan...\n",
              "2     [back, bending, strengthen, back, abdominal, m...\n",
              "3     [tones, better, blood, circulation, practice, ...\n",
              "4     [strengthens, quadriceps, gluteus, maximus, ha...\n",
              "5     [strengthens, ankles, knees, legs, roots, thig...\n",
              "6     [great, posture, exercise, arm, balancing, inc...\n",
              "7     [develops, nervous, control, reverses, flow, a...\n",
              "8     [strengthens, improves, flexibility, inner, th...\n",
              "9     [arms, strengthen, core, help, hold, glutes, a...\n",
              "10    [balasana, yoga, asana, helps, release, tensio...\n",
              "11    [practicing, bhairavasana, lengthens, spine, s...\n",
              "12    [relieves, pain, stiffness, neck, shoulders, l...\n",
              "13    [opens, hip, joints, provides, deep, stretch, ...\n",
              "14    [bhujangasana, useful, keep, back, healthy, fi...\n",
              "15    [practicing, bhujapidasana, build, strength, a...\n",
              "16    [improves, flexibility, spine, improves, prana...\n",
              "17    [similar, plank, exercises, asana, aligns, who...\n",
              "18    [seated, posture, strengthens, back, muscles, ...\n",
              "19    [asana, back, bending, strengthen, back, abdom...\n",
              "20    [pose, part, hatha, yoga, improves, mind, body...\n",
              "21    [relieves, depression, relieves, anxiety, reli...\n",
              "22    [rejuvenates, spine, improves, spinal, flexibi...\n",
              "23    [high, blood, pressure, anxiety, relieves, fat...\n",
              "24    [relieves, lower, back, tightness, relieves, l...\n",
              "25    [high, blood, pressure, anxiety, relieves, fat...\n",
              "26    [anxiety, relieves, fatigue, improves, posture...\n",
              "27    [high, blood, pressure, anxiety, relieves, fat...\n",
              "28    [energy, boosting, pose, stretches, chest, lun...\n",
              "29    [crow, pose, crane, pose, improve, focus, stre...\n",
              "30    [boosts, confidence, helps, treat, depression,...\n",
              "31    [improves, digestive, system, strengthens, abd...\n",
              "32    [strengthens, improves, flexibility, inner, th...\n",
              "33    [seated, posture, strengthens, back, muscles, ...\n",
              "34    [strengthens, back, muscles, relieves, tired, ...\n",
              "35    [arms, strengthen, core, help, hold, glutes, a...\n",
              "36    [feathered, peacock, improves, postural, body,...\n",
              "37    [asana, induces, relaxation, alleviates, tired...\n",
              "Name: Benefits, dtype: object"
            ]
          },
          "metadata": {},
          "execution_count": 10
        }
      ]
    },
    {
      "cell_type": "code",
      "source": [
        "len(final)"
      ],
      "metadata": {
        "id": "dawqTp7Der-G",
        "colab": {
          "base_uri": "https://localhost:8080/"
        },
        "outputId": "d2c7178d-895a-42bc-c1d1-f863595e12b4"
      },
      "execution_count": 11,
      "outputs": [
        {
          "output_type": "execute_result",
          "data": {
            "text/plain": [
              "38"
            ]
          },
          "metadata": {},
          "execution_count": 11
        }
      ]
    },
    {
      "cell_type": "code",
      "source": [
        "connected_dataset = [] #list of asanas Asanas according to the respective number of cleaned words."
      ],
      "metadata": {
        "id": "hbiKizgcewDn"
      },
      "execution_count": 12,
      "outputs": []
    },
    {
      "cell_type": "code",
      "source": [
        "for i in range(len(final)):\n",
        "  for j in range(len(final[i])):\n",
        "    connected_dataset.append(asana_dataset['asanas'][i])"
      ],
      "metadata": {
        "id": "L4THJ-0KepiC"
      },
      "execution_count": 13,
      "outputs": []
    },
    {
      "cell_type": "code",
      "source": [
        "len(connected_dataset)"
      ],
      "metadata": {
        "id": "AA4HDYOXgH3p",
        "colab": {
          "base_uri": "https://localhost:8080/"
        },
        "outputId": "1f866c9e-aa41-4500-b999-4cd03e3fa8bd"
      },
      "execution_count": 14,
      "outputs": [
        {
          "output_type": "execute_result",
          "data": {
            "text/plain": [
              "826"
            ]
          },
          "metadata": {},
          "execution_count": 14
        }
      ]
    },
    {
      "cell_type": "code",
      "source": [
        "connected_dataset"
      ],
      "metadata": {
        "id": "FPCvkWWj7bf7",
        "colab": {
          "base_uri": "https://localhost:8080/"
        },
        "outputId": "1882ebe1-f98a-4784-afe3-d7de8e24b794"
      },
      "execution_count": 15,
      "outputs": [
        {
          "output_type": "execute_result",
          "data": {
            "text/plain": [
              "['Shvanasana',\n",
              " 'Shvanasana',\n",
              " 'Shvanasana',\n",
              " 'Shvanasana',\n",
              " 'Shvanasana',\n",
              " 'Shvanasana',\n",
              " 'Shvanasana',\n",
              " 'Shvanasana',\n",
              " 'Shvanasana',\n",
              " 'Shvanasana',\n",
              " 'Shvanasana',\n",
              " 'Shvanasana',\n",
              " 'Shvanasana',\n",
              " 'Vrikshasana',\n",
              " 'Vrikshasana',\n",
              " 'Vrikshasana',\n",
              " 'Vrikshasana',\n",
              " 'Vrikshasana',\n",
              " 'Vrikshasana',\n",
              " 'Vrikshasana',\n",
              " 'Vrikshasana',\n",
              " 'Vrikshasana',\n",
              " 'Vrikshasana',\n",
              " 'Vrikshasana',\n",
              " 'Vrikshasana',\n",
              " 'Vrikshasana',\n",
              " 'Vrikshasana',\n",
              " 'Vrikshasana',\n",
              " 'Vrikshasana',\n",
              " 'Vrikshasana',\n",
              " 'Vrikshasana',\n",
              " 'Vrikshasana',\n",
              " 'Vrikshasana',\n",
              " 'Vrikshasana',\n",
              " 'Vrikshasana',\n",
              " 'Vrikshasana',\n",
              " 'Vrikshasana',\n",
              " 'Dhanurasana',\n",
              " 'Dhanurasana',\n",
              " 'Dhanurasana',\n",
              " 'Dhanurasana',\n",
              " 'Dhanurasana',\n",
              " 'Dhanurasana',\n",
              " 'Dhanurasana',\n",
              " 'Dhanurasana',\n",
              " 'Dhanurasana',\n",
              " 'Dhanurasana',\n",
              " 'Dhanurasana',\n",
              " 'Dhanurasana',\n",
              " 'Dhanurasana',\n",
              " 'Dhanurasana',\n",
              " 'Dhanurasana',\n",
              " 'Dhanurasana',\n",
              " 'Dhanurasana',\n",
              " 'Dhanurasana',\n",
              " 'Dhanurasana',\n",
              " 'Dhanurasana',\n",
              " 'Anantasana',\n",
              " 'Anantasana',\n",
              " 'Anantasana',\n",
              " 'Anantasana',\n",
              " 'Anantasana',\n",
              " 'Anantasana',\n",
              " 'Anantasana',\n",
              " 'Anantasana',\n",
              " 'Anantasana',\n",
              " 'Anantasana',\n",
              " 'Anantasana',\n",
              " 'Anantasana',\n",
              " 'Anantasana',\n",
              " 'Anantasana',\n",
              " 'Anantasana',\n",
              " 'Anantasana',\n",
              " 'Anantasana',\n",
              " 'Anantasana',\n",
              " 'Anantasana',\n",
              " 'Anantasana',\n",
              " 'Anantasana',\n",
              " 'Anantasana',\n",
              " 'Anantasana',\n",
              " 'Anantasana',\n",
              " 'Anantasana',\n",
              " 'Anantasana',\n",
              " 'Anantasana',\n",
              " 'Anjaneyasana',\n",
              " 'Anjaneyasana',\n",
              " 'Anjaneyasana',\n",
              " 'Anjaneyasana',\n",
              " 'Anjaneyasana',\n",
              " 'Anjaneyasana',\n",
              " 'Anjaneyasana',\n",
              " 'Anjaneyasana',\n",
              " 'Anjaneyasana',\n",
              " 'Anjaneyasana',\n",
              " 'Anjaneyasana',\n",
              " 'Anjaneyasana',\n",
              " 'Anjaneyasana',\n",
              " 'Anjaneyasana',\n",
              " 'Anjaneyasana',\n",
              " 'Anjaneyasana',\n",
              " 'Anjaneyasana',\n",
              " 'Anjaneyasana',\n",
              " 'Anjaneyasana',\n",
              " 'Anjaneyasana',\n",
              " 'Anjaneyasana',\n",
              " 'Anjaneyasana',\n",
              " 'Anjaneyasana',\n",
              " 'Chandrasana',\n",
              " 'Chandrasana',\n",
              " 'Chandrasana',\n",
              " 'Chandrasana',\n",
              " 'Chandrasana',\n",
              " 'Chandrasana',\n",
              " 'Chandrasana',\n",
              " 'Chandrasana',\n",
              " 'Chandrasana',\n",
              " 'Chandrasana',\n",
              " 'Chandrasana',\n",
              " 'Chandrasana',\n",
              " 'Chandrasana',\n",
              " 'Chandrasana',\n",
              " 'Chandrasana',\n",
              " 'Chandrasana',\n",
              " 'Namaskara',\n",
              " 'Namaskara',\n",
              " 'Namaskara',\n",
              " 'Namaskara',\n",
              " 'Namaskara',\n",
              " 'Namaskara',\n",
              " 'Namaskara',\n",
              " 'Namaskara',\n",
              " 'Namaskara',\n",
              " 'Namaskara',\n",
              " 'Namaskara',\n",
              " 'Namaskara',\n",
              " 'Namaskara',\n",
              " 'Namaskara',\n",
              " 'Namaskara',\n",
              " 'Namaskara',\n",
              " 'Namaskara',\n",
              " 'Namaskara',\n",
              " 'Namaskara',\n",
              " 'Namaskara',\n",
              " 'Namaskara',\n",
              " 'Namaskara',\n",
              " 'Namaskara',\n",
              " 'Namaskara',\n",
              " 'Namaskara',\n",
              " 'Astavakrasana',\n",
              " 'Astavakrasana',\n",
              " 'Astavakrasana',\n",
              " 'Astavakrasana',\n",
              " 'Astavakrasana',\n",
              " 'Astavakrasana',\n",
              " 'Astavakrasana',\n",
              " 'Astavakrasana',\n",
              " 'Astavakrasana',\n",
              " 'Astavakrasana',\n",
              " 'Astavakrasana',\n",
              " 'Astavakrasana',\n",
              " 'Astavakrasana',\n",
              " 'Astavakrasana',\n",
              " 'Astavakrasana',\n",
              " 'Astavakrasana',\n",
              " 'Astavakrasana',\n",
              " 'Astavakrasana',\n",
              " 'Konasana',\n",
              " 'Konasana',\n",
              " 'Konasana',\n",
              " 'Konasana',\n",
              " 'Konasana',\n",
              " 'Konasana',\n",
              " 'Konasana',\n",
              " 'Konasana',\n",
              " 'Konasana',\n",
              " 'Konasana',\n",
              " 'Konasana',\n",
              " 'Konasana',\n",
              " 'Konasana',\n",
              " 'Konasana',\n",
              " 'Konasana',\n",
              " 'Konasana',\n",
              " 'Konasana',\n",
              " 'Konasana',\n",
              " 'Konasana',\n",
              " 'Konasana',\n",
              " 'Konasana',\n",
              " 'Konasana',\n",
              " 'Konasana',\n",
              " 'Kakasana',\n",
              " 'Kakasana',\n",
              " 'Kakasana',\n",
              " 'Kakasana',\n",
              " 'Kakasana',\n",
              " 'Kakasana',\n",
              " 'Kakasana',\n",
              " 'Kakasana',\n",
              " 'Kakasana',\n",
              " 'Kakasana',\n",
              " 'Kakasana',\n",
              " 'Kakasana',\n",
              " 'Kakasana',\n",
              " 'Kakasana',\n",
              " 'Kakasana',\n",
              " 'Kakasana',\n",
              " 'Kakasana',\n",
              " 'Kakasana',\n",
              " 'Kakasana',\n",
              " 'Kakasana',\n",
              " 'Balasana',\n",
              " 'Balasana',\n",
              " 'Balasana',\n",
              " 'Balasana',\n",
              " 'Balasana',\n",
              " 'Balasana',\n",
              " 'Balasana',\n",
              " 'Balasana',\n",
              " 'Balasana',\n",
              " 'Balasana',\n",
              " 'Balasana',\n",
              " 'Balasana',\n",
              " 'Balasana',\n",
              " 'Balasana',\n",
              " 'Balasana',\n",
              " 'Balasana',\n",
              " 'Balasana',\n",
              " 'Balasana',\n",
              " 'Balasana',\n",
              " 'Balasana',\n",
              " 'Balasana',\n",
              " 'Balasana',\n",
              " 'Balasana',\n",
              " 'Balasana',\n",
              " 'Balasana',\n",
              " 'Balasana',\n",
              " 'Balasana',\n",
              " 'Ankushasana',\n",
              " 'Ankushasana',\n",
              " 'Ankushasana',\n",
              " 'Ankushasana',\n",
              " 'Ankushasana',\n",
              " 'Ankushasana',\n",
              " 'Ankushasana',\n",
              " 'Ankushasana',\n",
              " 'Ankushasana',\n",
              " 'Ankushasana',\n",
              " 'Ankushasana',\n",
              " 'Ankushasana',\n",
              " 'Ankushasana',\n",
              " 'Ankushasana',\n",
              " 'Ankushasana',\n",
              " 'Ankushasana',\n",
              " 'Ankushasana',\n",
              " 'Ankushasana',\n",
              " 'Ankushasana',\n",
              " 'Ankushasana',\n",
              " 'Ankushasana',\n",
              " 'Bharadvajasana',\n",
              " 'Bharadvajasana',\n",
              " 'Bharadvajasana',\n",
              " 'Bharadvajasana',\n",
              " 'Bharadvajasana',\n",
              " 'Bharadvajasana',\n",
              " 'Bharadvajasana',\n",
              " 'Bharadvajasana',\n",
              " 'Bharadvajasana',\n",
              " 'Bharadvajasana',\n",
              " 'Bharadvajasana',\n",
              " 'Bharadvajasana',\n",
              " 'Bharadvajasana',\n",
              " 'Bharadvajasana',\n",
              " 'Bharadvajasana',\n",
              " 'Bharadvajasana',\n",
              " 'Bharadvajasana',\n",
              " 'Bharadvajasana',\n",
              " 'Bharadvajasana',\n",
              " 'Bharadvajasana',\n",
              " 'Bharadvajasana',\n",
              " 'Bharadvajasana',\n",
              " 'Bharadvajasana',\n",
              " 'Bharadvajasana',\n",
              " 'Bharadvajasana',\n",
              " 'Bharadvajasana',\n",
              " 'Bharadvajasana',\n",
              " 'Bharadvajasana',\n",
              " 'Bhekasana',\n",
              " 'Bhekasana',\n",
              " 'Bhekasana',\n",
              " 'Bhekasana',\n",
              " 'Bhekasana',\n",
              " 'Bhekasana',\n",
              " 'Bhekasana',\n",
              " 'Bhekasana',\n",
              " 'Bhekasana',\n",
              " 'Bhekasana',\n",
              " 'Bhekasana',\n",
              " 'Bhekasana',\n",
              " 'Bhekasana',\n",
              " 'Bhekasana',\n",
              " 'Bhekasana',\n",
              " 'Bhekasana',\n",
              " 'Bhekasana',\n",
              " 'Bhekasana',\n",
              " 'Bhekasana',\n",
              " 'Bhekasana',\n",
              " 'Bhekasana',\n",
              " 'Bhekasana',\n",
              " 'Bhekasana',\n",
              " 'Bhekasana',\n",
              " 'Bhekasana',\n",
              " 'Bhekasana',\n",
              " 'Bhekasana',\n",
              " 'Bhujangasana',\n",
              " 'Bhujangasana',\n",
              " 'Bhujangasana',\n",
              " 'Bhujangasana',\n",
              " 'Bhujangasana',\n",
              " 'Bhujangasana',\n",
              " 'Bhujangasana',\n",
              " 'Bhujangasana',\n",
              " 'Bhujangasana',\n",
              " 'Bhujangasana',\n",
              " 'Bhujangasana',\n",
              " 'Bhujangasana',\n",
              " 'Bhujangasana',\n",
              " 'Bhujangasana',\n",
              " 'Bhujangasana',\n",
              " 'Bhujangasana',\n",
              " 'Bhujangasana',\n",
              " 'Bhujangasana',\n",
              " 'Bhujangasana',\n",
              " 'Bhujangasana',\n",
              " 'Bhujangasana',\n",
              " 'Bhujangasana',\n",
              " 'Bhujangasana',\n",
              " 'Bhujangasana',\n",
              " 'Bhujangasana',\n",
              " 'Bhujangasana',\n",
              " 'Bhujapidasana',\n",
              " 'Bhujapidasana',\n",
              " 'Bhujapidasana',\n",
              " 'Bhujapidasana',\n",
              " 'Bhujapidasana',\n",
              " 'Bhujapidasana',\n",
              " 'Bhujapidasana',\n",
              " 'Bhujapidasana',\n",
              " 'Bhujapidasana',\n",
              " 'Bhujapidasana',\n",
              " 'Bhujapidasana',\n",
              " 'Bhujapidasana',\n",
              " 'Bhujapidasana',\n",
              " 'Bhujapidasana',\n",
              " 'Bhujapidasana',\n",
              " 'Bhujapidasana',\n",
              " 'Bhujapidasana',\n",
              " 'Bhujapidasana',\n",
              " 'Bhujapidasana',\n",
              " 'Bidalasana',\n",
              " 'Bidalasana',\n",
              " 'Bidalasana',\n",
              " 'Bidalasana',\n",
              " 'Bidalasana',\n",
              " 'Bidalasana',\n",
              " 'Bidalasana',\n",
              " 'Bidalasana',\n",
              " 'Bidalasana',\n",
              " 'Bidalasana',\n",
              " 'Bidalasana',\n",
              " 'Bidalasana',\n",
              " 'Bidalasana',\n",
              " 'Bidalasana',\n",
              " 'Bidalasana',\n",
              " 'Bidalasana',\n",
              " 'Bidalasana',\n",
              " 'Bidalasana',\n",
              " 'Bidalasana',\n",
              " 'Bidalasana',\n",
              " 'Bidalasana',\n",
              " 'Bidalasana',\n",
              " 'Bidalasana',\n",
              " 'Bidalasana',\n",
              " 'Bidalasana',\n",
              " 'Bidalasana',\n",
              " 'Chaturanga',\n",
              " 'Chaturanga',\n",
              " 'Chaturanga',\n",
              " 'Chaturanga',\n",
              " 'Chaturanga',\n",
              " 'Chaturanga',\n",
              " 'Chaturanga',\n",
              " 'Chaturanga',\n",
              " 'Chaturanga',\n",
              " 'Chaturanga',\n",
              " 'Chaturanga',\n",
              " 'Chaturanga',\n",
              " 'Chaturanga',\n",
              " 'Chaturanga',\n",
              " 'Chaturanga',\n",
              " 'Chaturanga',\n",
              " 'Chaturanga',\n",
              " 'Chaturanga',\n",
              " 'Chaturanga',\n",
              " 'Chaturanga',\n",
              " 'Chaturanga',\n",
              " 'Chaturanga',\n",
              " 'Chaturanga',\n",
              " 'Chaturanga',\n",
              " 'Chaturanga',\n",
              " 'Chaturanga',\n",
              " 'Chaturanga',\n",
              " 'Dandasana',\n",
              " 'Dandasana',\n",
              " 'Dandasana',\n",
              " 'Dandasana',\n",
              " 'Dandasana',\n",
              " 'Dandasana',\n",
              " 'Dandasana',\n",
              " 'Dandasana',\n",
              " 'Dandasana',\n",
              " 'Dandasana',\n",
              " 'Dandasana',\n",
              " 'Dandasana',\n",
              " 'Dandasana',\n",
              " 'Dandasana',\n",
              " 'Dhanurasana',\n",
              " 'Dhanurasana',\n",
              " 'Dhanurasana',\n",
              " 'Dhanurasana',\n",
              " 'Dhanurasana',\n",
              " 'Dhanurasana',\n",
              " 'Dhanurasana',\n",
              " 'Dhanurasana',\n",
              " 'Dhanurasana',\n",
              " 'Dhanurasana',\n",
              " 'Dhanurasana',\n",
              " 'Dhanurasana',\n",
              " 'Dhanurasana',\n",
              " 'Dhanurasana',\n",
              " 'Dhanurasana',\n",
              " 'Dhanurasana',\n",
              " 'Dhanurasana',\n",
              " 'Dhanurasana',\n",
              " 'Dhanurasana',\n",
              " 'Dhanurasana',\n",
              " 'Dhanurasana',\n",
              " 'Durvasasana',\n",
              " 'Durvasasana',\n",
              " 'Durvasasana',\n",
              " 'Durvasasana',\n",
              " 'Durvasasana',\n",
              " 'Durvasasana',\n",
              " 'Durvasasana',\n",
              " 'Durvasasana',\n",
              " 'Durvasasana',\n",
              " 'Durvasasana',\n",
              " 'Durvasasana',\n",
              " 'Durvasasana',\n",
              " 'Durvasasana',\n",
              " 'Durvasasana',\n",
              " 'Durvasasana',\n",
              " 'Durvasasana',\n",
              " 'Durvasasana',\n",
              " 'Durvasasana',\n",
              " 'Durvasasana',\n",
              " 'Durvasasana',\n",
              " 'Durvasasana',\n",
              " 'Durvasasana',\n",
              " 'Durvasasana',\n",
              " 'Durvasasana',\n",
              " 'Durvasasana',\n",
              " 'Durvasasana',\n",
              " 'Durvasasana',\n",
              " 'Shirshasana',\n",
              " 'Shirshasana',\n",
              " 'Shirshasana',\n",
              " 'Shirshasana',\n",
              " 'Shirshasana',\n",
              " 'Shirshasana',\n",
              " 'Shirshasana',\n",
              " 'Shirshasana',\n",
              " 'Shirshasana',\n",
              " 'Shirshasana',\n",
              " 'Shirshasana',\n",
              " 'Shirshasana',\n",
              " 'Shirshasana',\n",
              " 'Shirshasana',\n",
              " 'Shirshasana',\n",
              " 'Matsyendrasana',\n",
              " 'Matsyendrasana',\n",
              " 'Matsyendrasana',\n",
              " 'Matsyendrasana',\n",
              " 'Matsyendrasana',\n",
              " 'Matsyendrasana',\n",
              " 'Matsyendrasana',\n",
              " 'Matsyendrasana',\n",
              " 'Matsyendrasana',\n",
              " 'Matsyendrasana',\n",
              " 'Matsyendrasana',\n",
              " 'Marichyasana',\n",
              " 'Marichyasana',\n",
              " 'Marichyasana',\n",
              " 'Marichyasana',\n",
              " 'Marichyasana',\n",
              " 'Marichyasana',\n",
              " 'Marichyasana',\n",
              " 'Marichyasana',\n",
              " 'Marichyasana',\n",
              " 'Marichyasana',\n",
              " 'Marichyasana',\n",
              " 'Marichyasana',\n",
              " 'Marichyasana',\n",
              " 'Marichyasana',\n",
              " 'Marichyasana',\n",
              " 'Matsyendrasana',\n",
              " 'Matsyendrasana',\n",
              " 'Matsyendrasana',\n",
              " 'Matsyendrasana',\n",
              " 'Matsyendrasana',\n",
              " 'Matsyendrasana',\n",
              " 'Matsyendrasana',\n",
              " 'Matsyendrasana',\n",
              " 'Shvanasana',\n",
              " 'Shvanasana',\n",
              " 'Shvanasana',\n",
              " 'Shvanasana',\n",
              " 'Shvanasana',\n",
              " 'Shvanasana',\n",
              " 'Shvanasana',\n",
              " 'Shvanasana',\n",
              " 'Shvanasana',\n",
              " 'Shvanasana',\n",
              " 'Shvanasana',\n",
              " 'Shvanasana',\n",
              " 'Shvanasana',\n",
              " 'Shvanasana',\n",
              " 'Shvanasana',\n",
              " 'Shvanasana',\n",
              " 'Shvanasana',\n",
              " 'Shvanasana',\n",
              " 'Shvanasana',\n",
              " 'Shvanasana',\n",
              " 'Shvanasana',\n",
              " 'Shvanasana',\n",
              " 'Shvanasana',\n",
              " 'Shvanasana',\n",
              " 'Shvanasana',\n",
              " 'Shvanasana',\n",
              " 'Shvanasana',\n",
              " 'Chamatkarasana',\n",
              " 'Chamatkarasana',\n",
              " 'Chamatkarasana',\n",
              " 'Chamatkarasana',\n",
              " 'Chamatkarasana',\n",
              " 'Chamatkarasana',\n",
              " 'Chamatkarasana',\n",
              " 'Chamatkarasana',\n",
              " 'Chamatkarasana',\n",
              " 'Chamatkarasana',\n",
              " 'Chamatkarasana',\n",
              " 'Chamatkarasana',\n",
              " 'Chamatkarasana',\n",
              " 'Chamatkarasana',\n",
              " 'Chamatkarasana',\n",
              " 'Dhanurasana',\n",
              " 'Dhanurasana',\n",
              " 'Dhanurasana',\n",
              " 'Dhanurasana',\n",
              " 'Dhanurasana',\n",
              " 'Dhanurasana',\n",
              " 'Dhanurasana',\n",
              " 'Dhanurasana',\n",
              " 'Dhanurasana',\n",
              " 'Dhanurasana',\n",
              " 'Dhanurasana',\n",
              " 'Dhanurasana',\n",
              " 'Dhanurasana',\n",
              " 'Dhanurasana',\n",
              " 'Bakasana',\n",
              " 'Bakasana',\n",
              " 'Bakasana',\n",
              " 'Bakasana',\n",
              " 'Bakasana',\n",
              " 'Bakasana',\n",
              " 'Bakasana',\n",
              " 'Bakasana',\n",
              " 'Bakasana',\n",
              " 'Bakasana',\n",
              " 'Bakasana',\n",
              " 'Bakasana',\n",
              " 'Bakasana',\n",
              " 'Bakasana',\n",
              " 'Bakasana',\n",
              " 'Bakasana',\n",
              " 'Bakasana',\n",
              " 'Bakasana',\n",
              " 'Bakasana',\n",
              " 'Bakasana',\n",
              " 'Bakasana',\n",
              " 'Bakasana',\n",
              " 'Bakasana',\n",
              " 'Bakasana',\n",
              " 'Bakasana',\n",
              " 'Bakasana',\n",
              " 'Bakasana',\n",
              " 'Bakasana',\n",
              " 'Bakasana',\n",
              " 'Bakasana',\n",
              " 'Bakasana',\n",
              " 'Bakasana',\n",
              " 'Bakasana',\n",
              " 'Bakasana',\n",
              " 'Bakasana',\n",
              " 'Bakasana',\n",
              " 'Hastasana',\n",
              " 'Hastasana',\n",
              " 'Hastasana',\n",
              " 'Hastasana',\n",
              " 'Hastasana',\n",
              " 'Hastasana',\n",
              " 'Hastasana',\n",
              " 'Hastasana',\n",
              " 'Hastasana',\n",
              " 'Hastasana',\n",
              " 'Hastasana',\n",
              " 'Hastasana',\n",
              " 'Hastasana',\n",
              " 'Hastasana',\n",
              " 'Hastasana',\n",
              " 'Hastasana',\n",
              " 'Hastasana',\n",
              " 'Hastasana',\n",
              " 'Hastasana',\n",
              " 'Hastasana',\n",
              " 'Hastasana',\n",
              " 'Hastasana',\n",
              " 'Hastasana',\n",
              " 'Hastasana',\n",
              " 'Hastasana',\n",
              " 'Hastasana',\n",
              " 'Hastasana',\n",
              " 'Hastasana',\n",
              " 'Hastasana',\n",
              " 'Hastasana',\n",
              " 'Hastasana',\n",
              " 'Muktyasana',\n",
              " 'Muktyasana',\n",
              " 'Muktyasana',\n",
              " 'Muktyasana',\n",
              " 'Muktyasana',\n",
              " 'Muktyasana',\n",
              " 'Muktyasana',\n",
              " 'Muktyasana',\n",
              " 'Muktyasana',\n",
              " 'Muktyasana',\n",
              " 'Muktyasana',\n",
              " 'Muktyasana',\n",
              " 'Muktyasana',\n",
              " 'Muktyasana',\n",
              " 'Muktyasana',\n",
              " 'Muktyasana',\n",
              " 'Muktyasana',\n",
              " 'Muktyasana',\n",
              " 'Muktyasana',\n",
              " 'Muktyasana',\n",
              " 'Muktyasana',\n",
              " 'Muktyasana',\n",
              " 'Padmasana',\n",
              " 'Padmasana',\n",
              " 'Padmasana',\n",
              " 'Padmasana',\n",
              " 'Padmasana',\n",
              " 'Padmasana',\n",
              " 'Padmasana',\n",
              " 'Padmasana',\n",
              " 'Padmasana',\n",
              " 'Padmasana',\n",
              " 'Padmasana',\n",
              " 'Padmasana',\n",
              " 'Padmasana',\n",
              " 'Padmasana',\n",
              " 'Padmasana',\n",
              " 'Padmasana',\n",
              " 'Padmasana',\n",
              " 'Padmasana',\n",
              " 'Padmasana',\n",
              " 'Padmasana',\n",
              " 'Padmasana',\n",
              " 'Padmasana',\n",
              " 'Padmasana',\n",
              " 'Dandasana',\n",
              " 'Dandasana',\n",
              " 'Dandasana',\n",
              " 'Dandasana',\n",
              " 'Dandasana',\n",
              " 'Dandasana',\n",
              " 'Dandasana',\n",
              " 'Dandasana',\n",
              " 'Dandasana',\n",
              " 'Dandasana',\n",
              " 'Dandasana',\n",
              " 'Dandasana',\n",
              " 'Dandasana',\n",
              " 'Dandasana',\n",
              " 'Bandhasana',\n",
              " 'Bandhasana',\n",
              " 'Bandhasana',\n",
              " 'Bandhasana',\n",
              " 'Bandhasana',\n",
              " 'Bandhasana',\n",
              " 'Bandhasana',\n",
              " 'Bandhasana',\n",
              " 'Bandhasana',\n",
              " 'Bandhasana',\n",
              " 'Bandhasana',\n",
              " 'Bandhasana',\n",
              " 'Bandhasana',\n",
              " 'Bandhasana',\n",
              " 'Bandhasana',\n",
              " 'Bandhasana',\n",
              " 'Bandhasana',\n",
              " 'Bandhasana',\n",
              " 'Bandhasana',\n",
              " 'Bandhasana',\n",
              " 'Bandhasana',\n",
              " 'Bandhasana',\n",
              " 'Bandhasana',\n",
              " 'Bandhasana',\n",
              " 'Bandhasana',\n",
              " 'Bandhasana',\n",
              " 'Bandhasana',\n",
              " 'Bandhasana',\n",
              " 'Bandhasana',\n",
              " 'Bandhasana',\n",
              " 'Bandhasana',\n",
              " 'Bandhasana',\n",
              " 'Bandhasana',\n",
              " 'Bandhasana',\n",
              " 'Bandhasana',\n",
              " 'Bandhasana',\n",
              " 'Bandhasana',\n",
              " 'Bandhasana',\n",
              " 'Bandhasana',\n",
              " 'Bandhasana',\n",
              " 'Sarvangasana',\n",
              " 'Sarvangasana',\n",
              " 'Sarvangasana',\n",
              " 'Sarvangasana',\n",
              " 'Sarvangasana',\n",
              " 'Sarvangasana',\n",
              " 'Sarvangasana',\n",
              " 'Sarvangasana',\n",
              " 'Sarvangasana',\n",
              " 'Sarvangasana',\n",
              " 'Sarvangasana',\n",
              " 'Sarvangasana',\n",
              " 'Sarvangasana',\n",
              " 'Sarvangasana',\n",
              " 'Sarvangasana',\n",
              " 'Sarvangasana',\n",
              " 'Sarvangasana',\n",
              " 'Sarvangasana',\n",
              " 'Sarvangasana',\n",
              " 'Sarvangasana',\n",
              " 'Mayurasana',\n",
              " 'Mayurasana',\n",
              " 'Mayurasana',\n",
              " 'Mayurasana',\n",
              " 'Mayurasana',\n",
              " 'Mayurasana',\n",
              " 'Mayurasana',\n",
              " 'Mayurasana',\n",
              " 'Mayurasana',\n",
              " 'Mayurasana',\n",
              " 'Mayurasana',\n",
              " 'Mayurasana',\n",
              " 'Mayurasana',\n",
              " 'Mayurasana',\n",
              " 'Mayurasana',\n",
              " 'Mayurasana',\n",
              " 'Mayurasana',\n",
              " 'Mayurasana',\n",
              " 'Mayurasana',\n",
              " 'Mayurasana',\n",
              " 'Mayurasana',\n",
              " 'Mayurasana',\n",
              " 'Mayurasana',\n",
              " 'Mayurasana',\n",
              " 'Mayurasana',\n",
              " 'Mayurasana',\n",
              " 'Mayurasana',\n",
              " 'Mayurasana',\n",
              " 'Mayurasana',\n",
              " 'Gomukhasana',\n",
              " 'Gomukhasana',\n",
              " 'Gomukhasana',\n",
              " 'Gomukhasana',\n",
              " 'Gomukhasana',\n",
              " 'Gomukhasana',\n",
              " 'Gomukhasana',\n",
              " 'Gomukhasana',\n",
              " 'Gomukhasana',\n",
              " 'Gomukhasana',\n",
              " 'Gomukhasana',\n",
              " 'Gomukhasana',\n",
              " 'Gomukhasana',\n",
              " 'Gomukhasana',\n",
              " 'Gomukhasana',\n",
              " 'Gomukhasana',\n",
              " 'Gomukhasana',\n",
              " 'Gomukhasana',\n",
              " 'Gomukhasana',\n",
              " 'Gomukhasana',\n",
              " 'Gomukhasana',\n",
              " 'Gomukhasana',\n",
              " 'Gomukhasana',\n",
              " 'Gomukhasana',\n",
              " 'Gomukhasana',\n",
              " 'Gomukhasana',\n",
              " 'Gomukhasana',\n",
              " 'Gomukhasana',\n",
              " 'Gomukhasana',\n",
              " 'Gomukhasana',\n",
              " 'Gomukhasana',\n",
              " 'Gomukhasana',\n",
              " 'Gomukhasana',\n",
              " 'Gomukhasana']"
            ]
          },
          "metadata": {},
          "execution_count": 15
        }
      ]
    },
    {
      "cell_type": "code",
      "execution_count": 16,
      "metadata": {
        "id": "EYtSYwGcqdyN"
      },
      "outputs": [],
      "source": [
        "model = Word2Vec(sentences = final, sg=1, min_count=1, workers=4, window = 5, size = 32)"
      ]
    },
    {
      "cell_type": "code",
      "execution_count": 17,
      "metadata": {
        "id": "Mf6xTAM2qd1M",
        "colab": {
          "base_uri": "https://localhost:8080/"
        },
        "outputId": "30fc44f0-5c08-43cd-d5cb-e37b2b29ceff"
      },
      "outputs": [
        {
          "output_type": "execute_result",
          "data": {
            "text/plain": [
              "(529470, 826000)"
            ]
          },
          "metadata": {},
          "execution_count": 17
        }
      ],
      "source": [
        "model.train(final, total_examples=model.corpus_count, epochs=1000)"
      ]
    },
    {
      "cell_type": "code",
      "source": [
        "model.wv['peacock']"
      ],
      "metadata": {
        "id": "QKgnxMEoA-hZ",
        "colab": {
          "base_uri": "https://localhost:8080/"
        },
        "outputId": "17cac054-9ee3-4cbe-da7c-cce1fe386755"
      },
      "execution_count": 18,
      "outputs": [
        {
          "output_type": "execute_result",
          "data": {
            "text/plain": [
              "array([-1.1930896 ,  0.25441438, -0.40470544,  0.12316014, -0.9836359 ,\n",
              "        0.63438654,  0.6004929 ,  0.9193934 , -0.18876122,  0.19697443,\n",
              "       -0.09551071,  1.127051  ,  0.09923577, -0.94688296, -0.54910517,\n",
              "       -0.6908234 ,  0.18025811,  0.25247133, -0.4351236 , -0.01446969,\n",
              "       -1.0077295 ,  0.7170416 ,  0.8104901 ,  0.00421384, -1.4159031 ,\n",
              "        1.0519634 , -1.1560403 , -0.58158475, -1.4788368 , -0.64733666,\n",
              "        1.268655  ,  0.06897409], dtype=float32)"
            ]
          },
          "metadata": {},
          "execution_count": 18
        }
      ]
    },
    {
      "cell_type": "code",
      "source": [
        "len(model.wv.vocab)"
      ],
      "metadata": {
        "id": "K5navScWuLJw",
        "colab": {
          "base_uri": "https://localhost:8080/"
        },
        "outputId": "919401d4-925c-415d-c976-dc77e544aed4"
      },
      "execution_count": 19,
      "outputs": [
        {
          "output_type": "execute_result",
          "data": {
            "text/plain": [
              "307"
            ]
          },
          "metadata": {},
          "execution_count": 19
        }
      ]
    },
    {
      "cell_type": "code",
      "source": [
        "final"
      ],
      "metadata": {
        "id": "02AJ0oAhntSn",
        "colab": {
          "base_uri": "https://localhost:8080/"
        },
        "outputId": "d3c9059e-c8ef-42f0-d6ae-d1d0b163a71a"
      },
      "execution_count": 20,
      "outputs": [
        {
          "output_type": "execute_result",
          "data": {
            "text/plain": [
              "0     [positive, effects, musculoskeletal, system, s...\n",
              "1     [makes, shoulders, wrists, arms, strong, enhan...\n",
              "2     [back, bending, strengthen, back, abdominal, m...\n",
              "3     [tones, better, blood, circulation, practice, ...\n",
              "4     [strengthens, quadriceps, gluteus, maximus, ha...\n",
              "5     [strengthens, ankles, knees, legs, roots, thig...\n",
              "6     [great, posture, exercise, arm, balancing, inc...\n",
              "7     [develops, nervous, control, reverses, flow, a...\n",
              "8     [strengthens, improves, flexibility, inner, th...\n",
              "9     [arms, strengthen, core, help, hold, glutes, a...\n",
              "10    [balasana, yoga, asana, helps, release, tensio...\n",
              "11    [practicing, bhairavasana, lengthens, spine, s...\n",
              "12    [relieves, pain, stiffness, neck, shoulders, l...\n",
              "13    [opens, hip, joints, provides, deep, stretch, ...\n",
              "14    [bhujangasana, useful, keep, back, healthy, fi...\n",
              "15    [practicing, bhujapidasana, build, strength, a...\n",
              "16    [improves, flexibility, spine, improves, prana...\n",
              "17    [similar, plank, exercises, asana, aligns, who...\n",
              "18    [seated, posture, strengthens, back, muscles, ...\n",
              "19    [asana, back, bending, strengthen, back, abdom...\n",
              "20    [pose, part, hatha, yoga, improves, mind, body...\n",
              "21    [relieves, depression, relieves, anxiety, reli...\n",
              "22    [rejuvenates, spine, improves, spinal, flexibi...\n",
              "23    [high, blood, pressure, anxiety, relieves, fat...\n",
              "24    [relieves, lower, back, tightness, relieves, l...\n",
              "25    [high, blood, pressure, anxiety, relieves, fat...\n",
              "26    [anxiety, relieves, fatigue, improves, posture...\n",
              "27    [high, blood, pressure, anxiety, relieves, fat...\n",
              "28    [energy, boosting, pose, stretches, chest, lun...\n",
              "29    [crow, pose, crane, pose, improve, focus, stre...\n",
              "30    [boosts, confidence, helps, treat, depression,...\n",
              "31    [improves, digestive, system, strengthens, abd...\n",
              "32    [strengthens, improves, flexibility, inner, th...\n",
              "33    [seated, posture, strengthens, back, muscles, ...\n",
              "34    [strengthens, back, muscles, relieves, tired, ...\n",
              "35    [arms, strengthen, core, help, hold, glutes, a...\n",
              "36    [feathered, peacock, improves, postural, body,...\n",
              "37    [asana, induces, relaxation, alleviates, tired...\n",
              "Name: Benefits, dtype: object"
            ]
          },
          "metadata": {},
          "execution_count": 20
        }
      ]
    },
    {
      "cell_type": "code",
      "execution_count": 21,
      "metadata": {
        "id": "C7wZKfe5q5pJ",
        "colab": {
          "base_uri": "https://localhost:8080/"
        },
        "outputId": "17e5a5e6-f1e9-4d50-eb4b-7f21b310754f"
      },
      "outputs": [
        {
          "output_type": "execute_result",
          "data": {
            "text/plain": [
              "array([-0.9048441 , -0.5164918 ,  0.4251148 , -0.04966326, -0.35435683,\n",
              "       -0.9933572 ,  0.07834414, -0.46734032,  0.37291723, -0.88784313,\n",
              "        0.7980336 ,  0.39848676, -0.17991734, -0.60713357,  1.4567273 ,\n",
              "        1.6070306 ,  0.4561262 , -0.14254999, -0.42534345,  0.59821624,\n",
              "       -0.79765445,  1.5985252 , -0.6153358 ,  0.5582263 , -0.17120564,\n",
              "       -0.7989929 ,  0.7456789 ,  1.4397846 ,  0.4617833 , -1.4826574 ,\n",
              "       -0.71463364, -0.5288116 ], dtype=float32)"
            ]
          },
          "metadata": {},
          "execution_count": 21
        }
      ],
      "source": [
        "model.wv.word_vec('pain') #another way to get embeddings of a word."
      ]
    },
    {
      "cell_type": "code",
      "source": [
        "final[0][0]"
      ],
      "metadata": {
        "id": "NIKQR-SIo9H6",
        "colab": {
          "base_uri": "https://localhost:8080/",
          "height": 35
        },
        "outputId": "abc09d65-9497-4ab4-d36e-33e12bd1e834"
      },
      "execution_count": 22,
      "outputs": [
        {
          "output_type": "execute_result",
          "data": {
            "text/plain": [
              "'positive'"
            ],
            "application/vnd.google.colaboratory.intrinsic+json": {
              "type": "string"
            }
          },
          "metadata": {},
          "execution_count": 22
        }
      ]
    },
    {
      "cell_type": "code",
      "source": [
        "model.wv.most_similar(\"depression\", topn = 10 )"
      ],
      "metadata": {
        "id": "RsMpwcKupG_h",
        "colab": {
          "base_uri": "https://localhost:8080/"
        },
        "outputId": "87c1787f-3d56-4d35-fcdc-bf53ad33a9d6"
      },
      "execution_count": 23,
      "outputs": [
        {
          "output_type": "execute_result",
          "data": {
            "text/plain": [
              "[('boosts', 0.7781588435173035),\n",
              " ('arthritis', 0.7740115523338318),\n",
              " ('thyroid', 0.7362685203552246),\n",
              " ('fingers', 0.7117146849632263),\n",
              " ('treat', 0.6979131102561951),\n",
              " ('problems', 0.6909918785095215),\n",
              " ('confidence', 0.640256404876709),\n",
              " ('improvement', 0.6329619288444519),\n",
              " ('recovery', 0.6312937140464783),\n",
              " ('stress', 0.6191222071647644)]"
            ]
          },
          "metadata": {},
          "execution_count": 23
        }
      ]
    },
    {
      "cell_type": "code",
      "source": [
        "embeddings_dash = []\n",
        "for i in range(len(final)):\n",
        "  for j in final[i]:\n",
        "    embeddings_dash.append(model.wv[j])"
      ],
      "metadata": {
        "id": "DODcVmzjoEnE"
      },
      "execution_count": 24,
      "outputs": []
    },
    {
      "cell_type": "code",
      "source": [
        "len(embeddings_dash)"
      ],
      "metadata": {
        "id": "nJyBz7PGoGuA",
        "colab": {
          "base_uri": "https://localhost:8080/"
        },
        "outputId": "6e70201a-8e07-4ba7-d360-c9ffd84f2665"
      },
      "execution_count": 25,
      "outputs": [
        {
          "output_type": "execute_result",
          "data": {
            "text/plain": [
              "826"
            ]
          },
          "metadata": {},
          "execution_count": 25
        }
      ]
    },
    {
      "cell_type": "code",
      "execution_count": 26,
      "metadata": {
        "id": "bj_7sJJnrG27",
        "colab": {
          "base_uri": "https://localhost:8080/"
        },
        "outputId": "095c5d02-3ec8-48cd-a91a-b8a7b982a5c6"
      },
      "outputs": [
        {
          "output_type": "execute_result",
          "data": {
            "text/plain": [
              "array([-0.58677125, -0.10682375,  0.19841176,  0.33321166, -1.765612  ,\n",
              "       -2.0114477 ,  0.01013915, -0.1547142 ,  0.5074882 , -1.3486637 ,\n",
              "        0.43954125,  0.5858986 , -0.6046427 , -0.07314182, -0.8626982 ,\n",
              "        1.936984  ,  0.29609096, -0.27069584,  0.5914859 , -0.36061913,\n",
              "        0.19103536,  0.31832504, -0.16985609, -0.29192543, -0.8776009 ,\n",
              "        0.27450293, -0.9667868 , -1.1509514 , -0.29041114, -0.20419437,\n",
              "        0.21364865, -0.2805836 ], dtype=float32)"
            ]
          },
          "metadata": {},
          "execution_count": 26
        }
      ],
      "source": [
        "embeddings_dash[0]"
      ]
    },
    {
      "cell_type": "code",
      "source": [
        "import numpy as np"
      ],
      "metadata": {
        "id": "Pw-3h_ixMQ_4"
      },
      "execution_count": 27,
      "outputs": []
    },
    {
      "cell_type": "code",
      "source": [
        "# for i in range(len(embeddings_dash)):\n",
        "#   embeddings_dash[i] = np.pad(embeddings_dash[i],(6,6)) #when we one hot encoded the asanas, its number is elements were 32. therefore we pad 6 zeros in front and 6 at the back."
      ],
      "metadata": {
        "id": "h51kZkvTuxwp"
      },
      "execution_count": 28,
      "outputs": []
    },
    {
      "cell_type": "code",
      "source": [
        "len(embeddings_dash[0])"
      ],
      "metadata": {
        "id": "S-Bh3x06vAme",
        "colab": {
          "base_uri": "https://localhost:8080/"
        },
        "outputId": "d911b1ff-572b-47ea-87b0-a3d118312942"
      },
      "execution_count": 29,
      "outputs": [
        {
          "output_type": "execute_result",
          "data": {
            "text/plain": [
              "32"
            ]
          },
          "metadata": {},
          "execution_count": 29
        }
      ]
    },
    {
      "cell_type": "code",
      "source": [
        "embeddings_dash[0]"
      ],
      "metadata": {
        "id": "AIIsAkiBq6OD",
        "colab": {
          "base_uri": "https://localhost:8080/"
        },
        "outputId": "e7eaaeb5-f8cb-4ceb-c2b2-a345eb74c3fb"
      },
      "execution_count": 30,
      "outputs": [
        {
          "output_type": "execute_result",
          "data": {
            "text/plain": [
              "array([-0.58677125, -0.10682375,  0.19841176,  0.33321166, -1.765612  ,\n",
              "       -2.0114477 ,  0.01013915, -0.1547142 ,  0.5074882 , -1.3486637 ,\n",
              "        0.43954125,  0.5858986 , -0.6046427 , -0.07314182, -0.8626982 ,\n",
              "        1.936984  ,  0.29609096, -0.27069584,  0.5914859 , -0.36061913,\n",
              "        0.19103536,  0.31832504, -0.16985609, -0.29192543, -0.8776009 ,\n",
              "        0.27450293, -0.9667868 , -1.1509514 , -0.29041114, -0.20419437,\n",
              "        0.21364865, -0.2805836 ], dtype=float32)"
            ]
          },
          "metadata": {},
          "execution_count": 30
        }
      ]
    },
    {
      "cell_type": "code",
      "source": [
        "final[0][0]"
      ],
      "metadata": {
        "id": "MqO1AmUzr9pw",
        "colab": {
          "base_uri": "https://localhost:8080/",
          "height": 35
        },
        "outputId": "5841de22-b42e-41f7-d810-c3c2e6c8b189"
      },
      "execution_count": 31,
      "outputs": [
        {
          "output_type": "execute_result",
          "data": {
            "text/plain": [
              "'positive'"
            ],
            "application/vnd.google.colaboratory.intrinsic+json": {
              "type": "string"
            }
          },
          "metadata": {},
          "execution_count": 31
        }
      ]
    },
    {
      "cell_type": "code",
      "source": [
        "import numpy as np\n",
        "embeddings_dash = np.array(embeddings_dash)"
      ],
      "metadata": {
        "id": "0QQ1KlduiO7p"
      },
      "execution_count": 32,
      "outputs": []
    },
    {
      "cell_type": "code",
      "source": [
        "embeddings_dash"
      ],
      "metadata": {
        "id": "5EHbcoxAihGq",
        "colab": {
          "base_uri": "https://localhost:8080/"
        },
        "outputId": "40f35ba2-9cac-4bf2-c002-40bfa0e70a45"
      },
      "execution_count": 33,
      "outputs": [
        {
          "output_type": "execute_result",
          "data": {
            "text/plain": [
              "array([[-0.58677125, -0.10682375,  0.19841176, ..., -0.20419437,\n",
              "         0.21364865, -0.2805836 ],\n",
              "       [-0.53367674, -0.14822549,  0.05528077, ..., -0.14450216,\n",
              "         0.06095918, -0.17865306],\n",
              "       [-0.492658  , -0.0853558 , -0.04126494, ..., -0.01724119,\n",
              "        -0.06504118, -0.07188819],\n",
              "       ...,\n",
              "       [-0.47855735,  0.6670576 ,  1.0879058 , ..., -1.2405812 ,\n",
              "        -0.8044246 ,  0.94287115],\n",
              "       [-0.529387  ,  0.10425805,  0.08423693, ..., -1.7209015 ,\n",
              "        -1.2575287 ,  1.0705081 ],\n",
              "       [-1.4526618 , -0.93250334,  0.8027452 , ..., -0.75888187,\n",
              "        -0.6904216 ,  0.7523569 ]], dtype=float32)"
            ]
          },
          "metadata": {},
          "execution_count": 33
        }
      ]
    },
    {
      "cell_type": "code",
      "source": [
        "def one_hot(array):\n",
        "    unique, inverse = np.unique(array, return_inverse=True)\n",
        "    onehot = np.eye(unique.shape[0])[inverse]\n",
        "    return onehot"
      ],
      "metadata": {
        "id": "am8R_0L4jEUB"
      },
      "execution_count": 34,
      "outputs": []
    },
    {
      "cell_type": "code",
      "source": [
        "arr = one_hot(connected_dataset)"
      ],
      "metadata": {
        "id": "uKGv4g90jFto"
      },
      "execution_count": 35,
      "outputs": []
    },
    {
      "cell_type": "code",
      "source": [
        "output = arr"
      ],
      "metadata": {
        "id": "mHAt7p0Zl8sd"
      },
      "execution_count": 36,
      "outputs": []
    },
    {
      "cell_type": "code",
      "source": [
        "output"
      ],
      "metadata": {
        "id": "cMpXxKvN8iuq",
        "colab": {
          "base_uri": "https://localhost:8080/"
        },
        "outputId": "c9b991c2-393b-4e59-e580-98c7c1c92c07"
      },
      "execution_count": 37,
      "outputs": [
        {
          "output_type": "execute_result",
          "data": {
            "text/plain": [
              "array([[0., 0., 0., ..., 0., 1., 0.],\n",
              "       [0., 0., 0., ..., 0., 1., 0.],\n",
              "       [0., 0., 0., ..., 0., 1., 0.],\n",
              "       ...,\n",
              "       [0., 0., 0., ..., 0., 0., 0.],\n",
              "       [0., 0., 0., ..., 0., 0., 0.],\n",
              "       [0., 0., 0., ..., 0., 0., 0.]])"
            ]
          },
          "metadata": {},
          "execution_count": 37
        }
      ]
    },
    {
      "cell_type": "code",
      "source": [
        "len(output)"
      ],
      "metadata": {
        "id": "AX8V3edgjmaa",
        "colab": {
          "base_uri": "https://localhost:8080/"
        },
        "outputId": "3445d239-4728-4072-b5de-81962e1802b1"
      },
      "execution_count": 38,
      "outputs": [
        {
          "output_type": "execute_result",
          "data": {
            "text/plain": [
              "826"
            ]
          },
          "metadata": {},
          "execution_count": 38
        }
      ]
    },
    {
      "cell_type": "code",
      "source": [
        "input = embeddings_dash"
      ],
      "metadata": {
        "id": "NjsNCHuz78yO"
      },
      "execution_count": 39,
      "outputs": []
    },
    {
      "cell_type": "code",
      "source": [
        "len(input)"
      ],
      "metadata": {
        "id": "yFdaRH0725Bu",
        "colab": {
          "base_uri": "https://localhost:8080/"
        },
        "outputId": "50332789-5e76-4b75-870b-3dd0cfcd7907"
      },
      "execution_count": 40,
      "outputs": [
        {
          "output_type": "execute_result",
          "data": {
            "text/plain": [
              "826"
            ]
          },
          "metadata": {},
          "execution_count": 40
        }
      ]
    },
    {
      "cell_type": "code",
      "source": [
        "input.shape"
      ],
      "metadata": {
        "id": "h8sdSzsZ5iFD",
        "colab": {
          "base_uri": "https://localhost:8080/"
        },
        "outputId": "114e3c97-7214-452d-ad73-50108989236b"
      },
      "execution_count": 41,
      "outputs": [
        {
          "output_type": "execute_result",
          "data": {
            "text/plain": [
              "(826, 32)"
            ]
          },
          "metadata": {},
          "execution_count": 41
        }
      ]
    },
    {
      "cell_type": "code",
      "source": [
        "output.shape = input.shape"
      ],
      "metadata": {
        "id": "QHmjRY4c2XVu"
      },
      "execution_count": 42,
      "outputs": []
    },
    {
      "cell_type": "code",
      "source": [
        "output.shape"
      ],
      "metadata": {
        "id": "iVlmu5FO2_0i",
        "colab": {
          "base_uri": "https://localhost:8080/"
        },
        "outputId": "2c12ecb4-5e8c-4f4c-8353-08d447773037"
      },
      "execution_count": 43,
      "outputs": [
        {
          "output_type": "execute_result",
          "data": {
            "text/plain": [
              "(826, 32)"
            ]
          },
          "metadata": {},
          "execution_count": 43
        }
      ]
    },
    {
      "cell_type": "code",
      "source": [
        "import tensorflow as tf"
      ],
      "metadata": {
        "id": "AO8ZXZj6jy0C"
      },
      "execution_count": 44,
      "outputs": []
    },
    {
      "cell_type": "code",
      "source": [
        "ann = tf.keras.models.Sequential()"
      ],
      "metadata": {
        "id": "MVhWqph3jZhz"
      },
      "execution_count": 45,
      "outputs": []
    },
    {
      "cell_type": "code",
      "source": [
        "ann.add(tf.keras.layers.Dense(220, activation='relu'))"
      ],
      "metadata": {
        "id": "IYJjPbNWjFqg"
      },
      "execution_count": 46,
      "outputs": []
    },
    {
      "cell_type": "code",
      "source": [
        "ann.add(tf.keras.layers.Dense(units=32, activation='softmax'))"
      ],
      "metadata": {
        "id": "D6GdiT_c9MhV"
      },
      "execution_count": 47,
      "outputs": []
    },
    {
      "cell_type": "code",
      "source": [
        "ann.compile(loss='categorical_crossentropy', optimizer='adam', metrics=['accuracy'])"
      ],
      "metadata": {
        "id": "QSV07urnjFnq"
      },
      "execution_count": 48,
      "outputs": []
    },
    {
      "cell_type": "code",
      "source": [
        "ann.fit(input, output, batch_size = 5, epochs = 100)"
      ],
      "metadata": {
        "id": "ERiS2-88jFkj",
        "colab": {
          "base_uri": "https://localhost:8080/"
        },
        "outputId": "89372e7e-1d10-4064-dbee-0a4c20ebcc08"
      },
      "execution_count": 49,
      "outputs": [
        {
          "output_type": "stream",
          "name": "stdout",
          "text": [
            "Epoch 1/100\n",
            "166/166 [==============================] - 1s 2ms/step - loss: 3.0648 - accuracy: 0.2131\n",
            "Epoch 2/100\n",
            "166/166 [==============================] - 0s 2ms/step - loss: 2.1302 - accuracy: 0.3983\n",
            "Epoch 3/100\n",
            "166/166 [==============================] - 0s 2ms/step - loss: 1.7699 - accuracy: 0.3923\n",
            "Epoch 4/100\n",
            "166/166 [==============================] - 0s 2ms/step - loss: 1.6649 - accuracy: 0.3898\n",
            "Epoch 5/100\n",
            "166/166 [==============================] - 0s 2ms/step - loss: 1.6171 - accuracy: 0.4007\n",
            "Epoch 6/100\n",
            "166/166 [==============================] - 0s 2ms/step - loss: 1.5905 - accuracy: 0.3886\n",
            "Epoch 7/100\n",
            "166/166 [==============================] - 0s 2ms/step - loss: 1.5599 - accuracy: 0.3995\n",
            "Epoch 8/100\n",
            "166/166 [==============================] - 0s 2ms/step - loss: 1.5473 - accuracy: 0.4007\n",
            "Epoch 9/100\n",
            "166/166 [==============================] - 0s 2ms/step - loss: 1.5357 - accuracy: 0.3874\n",
            "Epoch 10/100\n",
            "166/166 [==============================] - 0s 2ms/step - loss: 1.5326 - accuracy: 0.3898\n",
            "Epoch 11/100\n",
            "166/166 [==============================] - 0s 2ms/step - loss: 1.5325 - accuracy: 0.3850\n",
            "Epoch 12/100\n",
            "166/166 [==============================] - 0s 2ms/step - loss: 1.5120 - accuracy: 0.3910\n",
            "Epoch 13/100\n",
            "166/166 [==============================] - 0s 2ms/step - loss: 1.5070 - accuracy: 0.3935\n",
            "Epoch 14/100\n",
            "166/166 [==============================] - 0s 2ms/step - loss: 1.5089 - accuracy: 0.3850\n",
            "Epoch 15/100\n",
            "166/166 [==============================] - 0s 2ms/step - loss: 1.4935 - accuracy: 0.3898\n",
            "Epoch 16/100\n",
            "166/166 [==============================] - 0s 2ms/step - loss: 1.4934 - accuracy: 0.3862\n",
            "Epoch 17/100\n",
            "166/166 [==============================] - 0s 2ms/step - loss: 1.4972 - accuracy: 0.3910\n",
            "Epoch 18/100\n",
            "166/166 [==============================] - 0s 2ms/step - loss: 1.4901 - accuracy: 0.3838\n",
            "Epoch 19/100\n",
            "166/166 [==============================] - 0s 2ms/step - loss: 1.4920 - accuracy: 0.3898\n",
            "Epoch 20/100\n",
            "166/166 [==============================] - 0s 3ms/step - loss: 1.4830 - accuracy: 0.3886\n",
            "Epoch 21/100\n",
            "166/166 [==============================] - 0s 2ms/step - loss: 1.4853 - accuracy: 0.3898\n",
            "Epoch 22/100\n",
            "166/166 [==============================] - 0s 2ms/step - loss: 1.4878 - accuracy: 0.3753\n",
            "Epoch 23/100\n",
            "166/166 [==============================] - 0s 2ms/step - loss: 1.4723 - accuracy: 0.3777\n",
            "Epoch 24/100\n",
            "166/166 [==============================] - 0s 2ms/step - loss: 1.4830 - accuracy: 0.3862\n",
            "Epoch 25/100\n",
            "166/166 [==============================] - 0s 2ms/step - loss: 1.4712 - accuracy: 0.4056\n",
            "Epoch 26/100\n",
            "166/166 [==============================] - 0s 2ms/step - loss: 1.4805 - accuracy: 0.3862\n",
            "Epoch 27/100\n",
            "166/166 [==============================] - 0s 2ms/step - loss: 1.4717 - accuracy: 0.4044\n",
            "Epoch 28/100\n",
            "166/166 [==============================] - 0s 2ms/step - loss: 1.4742 - accuracy: 0.3814\n",
            "Epoch 29/100\n",
            "166/166 [==============================] - 0s 2ms/step - loss: 1.4704 - accuracy: 0.3874\n",
            "Epoch 30/100\n",
            "166/166 [==============================] - 0s 3ms/step - loss: 1.4686 - accuracy: 0.3862\n",
            "Epoch 31/100\n",
            "166/166 [==============================] - 0s 2ms/step - loss: 1.4677 - accuracy: 0.3886\n",
            "Epoch 32/100\n",
            "166/166 [==============================] - 0s 2ms/step - loss: 1.4632 - accuracy: 0.3729\n",
            "Epoch 33/100\n",
            "166/166 [==============================] - 0s 2ms/step - loss: 1.4663 - accuracy: 0.3850\n",
            "Epoch 34/100\n",
            "166/166 [==============================] - 0s 2ms/step - loss: 1.4629 - accuracy: 0.3862\n",
            "Epoch 35/100\n",
            "166/166 [==============================] - 0s 2ms/step - loss: 1.4637 - accuracy: 0.3838\n",
            "Epoch 36/100\n",
            "166/166 [==============================] - 0s 2ms/step - loss: 1.4532 - accuracy: 0.3971\n",
            "Epoch 37/100\n",
            "166/166 [==============================] - 0s 2ms/step - loss: 1.4659 - accuracy: 0.3826\n",
            "Epoch 38/100\n",
            "166/166 [==============================] - 0s 2ms/step - loss: 1.4645 - accuracy: 0.3838\n",
            "Epoch 39/100\n",
            "166/166 [==============================] - 0s 2ms/step - loss: 1.4581 - accuracy: 0.3753\n",
            "Epoch 40/100\n",
            "166/166 [==============================] - 0s 2ms/step - loss: 1.4573 - accuracy: 0.3910\n",
            "Epoch 41/100\n",
            "166/166 [==============================] - 0s 2ms/step - loss: 1.4558 - accuracy: 0.3838\n",
            "Epoch 42/100\n",
            "166/166 [==============================] - 0s 2ms/step - loss: 1.4575 - accuracy: 0.3850\n",
            "Epoch 43/100\n",
            "166/166 [==============================] - 0s 2ms/step - loss: 1.4641 - accuracy: 0.3814\n",
            "Epoch 44/100\n",
            "166/166 [==============================] - 0s 2ms/step - loss: 1.4651 - accuracy: 0.3886\n",
            "Epoch 45/100\n",
            "166/166 [==============================] - 0s 2ms/step - loss: 1.4494 - accuracy: 0.3898\n",
            "Epoch 46/100\n",
            "166/166 [==============================] - 0s 2ms/step - loss: 1.4570 - accuracy: 0.4044\n",
            "Epoch 47/100\n",
            "166/166 [==============================] - 0s 2ms/step - loss: 1.4523 - accuracy: 0.3753\n",
            "Epoch 48/100\n",
            "166/166 [==============================] - 0s 2ms/step - loss: 1.4444 - accuracy: 0.4080\n",
            "Epoch 49/100\n",
            "166/166 [==============================] - 0s 2ms/step - loss: 1.4565 - accuracy: 0.3826\n",
            "Epoch 50/100\n",
            "166/166 [==============================] - 0s 2ms/step - loss: 1.4481 - accuracy: 0.3947\n",
            "Epoch 51/100\n",
            "166/166 [==============================] - 0s 2ms/step - loss: 1.4489 - accuracy: 0.3838\n",
            "Epoch 52/100\n",
            "166/166 [==============================] - 0s 2ms/step - loss: 1.4470 - accuracy: 0.3898\n",
            "Epoch 53/100\n",
            "166/166 [==============================] - 0s 2ms/step - loss: 1.4490 - accuracy: 0.3680\n",
            "Epoch 54/100\n",
            "166/166 [==============================] - 0s 2ms/step - loss: 1.4479 - accuracy: 0.3717\n",
            "Epoch 55/100\n",
            "166/166 [==============================] - 0s 2ms/step - loss: 1.4473 - accuracy: 0.3874\n",
            "Epoch 56/100\n",
            "166/166 [==============================] - 0s 2ms/step - loss: 1.4403 - accuracy: 0.3910\n",
            "Epoch 57/100\n",
            "166/166 [==============================] - 0s 2ms/step - loss: 1.4448 - accuracy: 0.3959\n",
            "Epoch 58/100\n",
            "166/166 [==============================] - 0s 2ms/step - loss: 1.4515 - accuracy: 0.3898\n",
            "Epoch 59/100\n",
            "166/166 [==============================] - 0s 2ms/step - loss: 1.4451 - accuracy: 0.3971\n",
            "Epoch 60/100\n",
            "166/166 [==============================] - 0s 2ms/step - loss: 1.4443 - accuracy: 0.3801\n",
            "Epoch 61/100\n",
            "166/166 [==============================] - 0s 2ms/step - loss: 1.4450 - accuracy: 0.3765\n",
            "Epoch 62/100\n",
            "166/166 [==============================] - 0s 2ms/step - loss: 1.4422 - accuracy: 0.3983\n",
            "Epoch 63/100\n",
            "166/166 [==============================] - 0s 2ms/step - loss: 1.4412 - accuracy: 0.3862\n",
            "Epoch 64/100\n",
            "166/166 [==============================] - 0s 2ms/step - loss: 1.4440 - accuracy: 0.3826\n",
            "Epoch 65/100\n",
            "166/166 [==============================] - 0s 2ms/step - loss: 1.4419 - accuracy: 0.3983\n",
            "Epoch 66/100\n",
            "166/166 [==============================] - 0s 2ms/step - loss: 1.4411 - accuracy: 0.3862\n",
            "Epoch 67/100\n",
            "166/166 [==============================] - 0s 2ms/step - loss: 1.4402 - accuracy: 0.3898\n",
            "Epoch 68/100\n",
            "166/166 [==============================] - 0s 2ms/step - loss: 1.4487 - accuracy: 0.3838\n",
            "Epoch 69/100\n",
            "166/166 [==============================] - 0s 2ms/step - loss: 1.4489 - accuracy: 0.3692\n",
            "Epoch 70/100\n",
            "166/166 [==============================] - 0s 2ms/step - loss: 1.4385 - accuracy: 0.3886\n",
            "Epoch 71/100\n",
            "166/166 [==============================] - 0s 2ms/step - loss: 1.4356 - accuracy: 0.4007\n",
            "Epoch 72/100\n",
            "166/166 [==============================] - 0s 2ms/step - loss: 1.4395 - accuracy: 0.3910\n",
            "Epoch 73/100\n",
            "166/166 [==============================] - 0s 3ms/step - loss: 1.4383 - accuracy: 0.3814\n",
            "Epoch 74/100\n",
            "166/166 [==============================] - 0s 2ms/step - loss: 1.4344 - accuracy: 0.3826\n",
            "Epoch 75/100\n",
            "166/166 [==============================] - 0s 3ms/step - loss: 1.4366 - accuracy: 0.3910\n",
            "Epoch 76/100\n",
            "166/166 [==============================] - 0s 3ms/step - loss: 1.4369 - accuracy: 0.4104\n",
            "Epoch 77/100\n",
            "166/166 [==============================] - 0s 2ms/step - loss: 1.4421 - accuracy: 0.3801\n",
            "Epoch 78/100\n",
            "166/166 [==============================] - 0s 2ms/step - loss: 1.4291 - accuracy: 0.3935\n",
            "Epoch 79/100\n",
            "166/166 [==============================] - 0s 2ms/step - loss: 1.4298 - accuracy: 0.3874\n",
            "Epoch 80/100\n",
            "166/166 [==============================] - 0s 2ms/step - loss: 1.4384 - accuracy: 0.3850\n",
            "Epoch 81/100\n",
            "166/166 [==============================] - 0s 2ms/step - loss: 1.4355 - accuracy: 0.3680\n",
            "Epoch 82/100\n",
            "166/166 [==============================] - 0s 2ms/step - loss: 1.4312 - accuracy: 0.3801\n",
            "Epoch 83/100\n",
            "166/166 [==============================] - 0s 2ms/step - loss: 1.4305 - accuracy: 0.3935\n",
            "Epoch 84/100\n",
            "166/166 [==============================] - 0s 2ms/step - loss: 1.4329 - accuracy: 0.3814\n",
            "Epoch 85/100\n",
            "166/166 [==============================] - 0s 2ms/step - loss: 1.4371 - accuracy: 0.3765\n",
            "Epoch 86/100\n",
            "166/166 [==============================] - 0s 2ms/step - loss: 1.4288 - accuracy: 0.3814\n",
            "Epoch 87/100\n",
            "166/166 [==============================] - 0s 2ms/step - loss: 1.4306 - accuracy: 0.3898\n",
            "Epoch 88/100\n",
            "166/166 [==============================] - 0s 2ms/step - loss: 1.4213 - accuracy: 0.3935\n",
            "Epoch 89/100\n",
            "166/166 [==============================] - 0s 2ms/step - loss: 1.4312 - accuracy: 0.3935\n",
            "Epoch 90/100\n",
            "166/166 [==============================] - 0s 2ms/step - loss: 1.4338 - accuracy: 0.3814\n",
            "Epoch 91/100\n",
            "166/166 [==============================] - 0s 2ms/step - loss: 1.4283 - accuracy: 0.3923\n",
            "Epoch 92/100\n",
            "166/166 [==============================] - 0s 2ms/step - loss: 1.4281 - accuracy: 0.3959\n",
            "Epoch 93/100\n",
            "166/166 [==============================] - 0s 2ms/step - loss: 1.4251 - accuracy: 0.3898\n",
            "Epoch 94/100\n",
            "166/166 [==============================] - 0s 2ms/step - loss: 1.4220 - accuracy: 0.3971\n",
            "Epoch 95/100\n",
            "166/166 [==============================] - 0s 2ms/step - loss: 1.4296 - accuracy: 0.3862\n",
            "Epoch 96/100\n",
            "166/166 [==============================] - 0s 2ms/step - loss: 1.4298 - accuracy: 0.3910\n",
            "Epoch 97/100\n",
            "166/166 [==============================] - 0s 2ms/step - loss: 1.4206 - accuracy: 0.4092\n",
            "Epoch 98/100\n",
            "166/166 [==============================] - 0s 2ms/step - loss: 1.4277 - accuracy: 0.3874\n",
            "Epoch 99/100\n",
            "166/166 [==============================] - 0s 2ms/step - loss: 1.4244 - accuracy: 0.3789\n",
            "Epoch 100/100\n",
            "166/166 [==============================] - 0s 2ms/step - loss: 1.4206 - accuracy: 0.4007\n"
          ]
        },
        {
          "output_type": "execute_result",
          "data": {
            "text/plain": [
              "<keras.callbacks.History at 0x7f04748fc350>"
            ]
          },
          "metadata": {},
          "execution_count": 49
        }
      ]
    },
    {
      "cell_type": "code",
      "source": [
        "test = []\n",
        "test.append(model.wv['pain'])\n",
        "test.append(model.wv['peacock'])\n",
        "test = np.array(test)\n",
        "test"
      ],
      "metadata": {
        "id": "RUP-0aSRjFhX",
        "colab": {
          "base_uri": "https://localhost:8080/"
        },
        "outputId": "acf3df53-c83c-4813-cab1-cc6bd97c7644"
      },
      "execution_count": 50,
      "outputs": [
        {
          "output_type": "execute_result",
          "data": {
            "text/plain": [
              "array([[-0.9048441 , -0.5164918 ,  0.4251148 , -0.04966326, -0.35435683,\n",
              "        -0.9933572 ,  0.07834414, -0.46734032,  0.37291723, -0.88784313,\n",
              "         0.7980336 ,  0.39848676, -0.17991734, -0.60713357,  1.4567273 ,\n",
              "         1.6070306 ,  0.4561262 , -0.14254999, -0.42534345,  0.59821624,\n",
              "        -0.79765445,  1.5985252 , -0.6153358 ,  0.5582263 , -0.17120564,\n",
              "        -0.7989929 ,  0.7456789 ,  1.4397846 ,  0.4617833 , -1.4826574 ,\n",
              "        -0.71463364, -0.5288116 ],\n",
              "       [-1.1930896 ,  0.25441438, -0.40470544,  0.12316014, -0.9836359 ,\n",
              "         0.63438654,  0.6004929 ,  0.9193934 , -0.18876122,  0.19697443,\n",
              "        -0.09551071,  1.127051  ,  0.09923577, -0.94688296, -0.54910517,\n",
              "        -0.6908234 ,  0.18025811,  0.25247133, -0.4351236 , -0.01446969,\n",
              "        -1.0077295 ,  0.7170416 ,  0.8104901 ,  0.00421384, -1.4159031 ,\n",
              "         1.0519634 , -1.1560403 , -0.58158475, -1.4788368 , -0.64733666,\n",
              "         1.268655  ,  0.06897409]], dtype=float32)"
            ]
          },
          "metadata": {},
          "execution_count": 50
        }
      ]
    },
    {
      "cell_type": "code",
      "source": [
        "for i in range(len(asana_dataset['asanas'])):\n",
        "  for j in ann.predict(test):\n",
        "    if i == np.argmax(j):\n",
        "      print(asana_dataset['asanas'][i])"
      ],
      "metadata": {
        "id": "aoqpJxU7jFee",
        "colab": {
          "base_uri": "https://localhost:8080/"
        },
        "outputId": "1adce729-632c-4833-b171-b8e2e7462a17"
      },
      "execution_count": 51,
      "outputs": [
        {
          "output_type": "stream",
          "name": "stdout",
          "text": [
            "Matsyendrasana\n",
            "Hastasana\n"
          ]
        }
      ]
    }
  ],
  "metadata": {
    "colab": {
      "collapsed_sections": [],
      "name": "Yoga project summer 2022.ipynb",
      "provenance": []
    },
    "kernelspec": {
      "display_name": "Python 3",
      "name": "python3"
    },
    "language_info": {
      "name": "python"
    }
  },
  "nbformat": 4,
  "nbformat_minor": 0
}