{
  "cells": [
    {
      "cell_type": "code",
      "execution_count": null,
      "metadata": {
        "id": "MlDLIKbREO1_"
      },
      "outputs": [],
      "source": [
        "import gensim\n",
        "import pandas as pd\n",
        "from gensim.models import Word2Vec"
      ]
    },
    {
      "cell_type": "code",
      "execution_count": null,
      "metadata": {
        "id": "1zTj610zEfu6"
      },
      "outputs": [],
      "source": [
        "data = pd.read_csv(\"info.csv\")"
      ]
    },
    {
      "cell_type": "code",
      "execution_count": null,
      "metadata": {
        "id": "KyprNI5rHSDW"
      },
      "outputs": [],
      "source": [
        "data"
      ]
    },
    {
      "cell_type": "code",
      "execution_count": null,
      "metadata": {
        "colab": {
          "base_uri": "https://localhost:8080/"
        },
        "id": "EQCPw3x1VHkb",
        "outputId": "7e023d05-5e92-406a-f1fc-c43b0e4e9c5e"
      },
      "outputs": [
        {
          "output_type": "stream",
          "name": "stderr",
          "text": [
            "[nltk_data] Downloading package stopwords to /root/nltk_data...\n",
            "[nltk_data]   Unzipping corpora/stopwords.zip.\n"
          ]
        }
      ],
      "source": [
        "import re\n",
        "import nltk\n",
        "nltk.download('stopwords')\n",
        "from nltk.corpus import stopwords\n",
        "corpus = []\n",
        "for i in range(0, 38):\n",
        "  processed_data = re.sub('[^a-zA-Z]', ' ', data['Benefits'][i])\n",
        "  processed_data = processed_data.lower()\n",
        "  processed_data = processed_data.split()\n",
        "  all_stopwords = stopwords.words('english')\n",
        "  processed_data = [word for word in processed_data if not word in set(all_stopwords)]\n",
        "  processed_data = ' '.join(processed_data)\n",
        "  corpus.append(processed_data)"
      ]
    },
    {
      "cell_type": "code",
      "source": [
        "for i in range(0,38):\n",
        "  data['Benefits'][i] = corpus[i]"
      ],
      "metadata": {
        "id": "wMllkTISrTkH"
      },
      "execution_count": null,
      "outputs": []
    },
    {
      "cell_type": "code",
      "source": [
        "data"
      ],
      "metadata": {
        "id": "mxQAZtH6rwOL"
      },
      "execution_count": null,
      "outputs": []
    },
    {
      "cell_type": "code",
      "source": [
        "final = data.Benefits.apply(gensim.utils.simple_preprocess) #Convert a document into a list of lowercase tokens, ignoring tokens that are too short or too long."
      ],
      "metadata": {
        "id": "NZsNFfsztojh"
      },
      "execution_count": null,
      "outputs": []
    },
    {
      "cell_type": "code",
      "source": [
        "final"
      ],
      "metadata": {
        "id": "xyryVlg-vWzW"
      },
      "execution_count": null,
      "outputs": []
    },
    {
      "cell_type": "code",
      "execution_count": null,
      "metadata": {
        "id": "EYtSYwGcqdyN"
      },
      "outputs": [],
      "source": [
        "model = Word2Vec(sentences = final, sg=1, min_count=1, workers=4, window = 5, size = 20)"
      ]
    },
    {
      "cell_type": "code",
      "execution_count": null,
      "metadata": {
        "id": "Mf6xTAM2qd1M",
        "colab": {
          "base_uri": "https://localhost:8080/"
        },
        "outputId": "bd4f359b-a0dd-4713-b9f3-08022c5d387d"
      },
      "outputs": [
        {
          "output_type": "execute_result",
          "data": {
            "text/plain": [
              "(529470, 826000)"
            ]
          },
          "metadata": {},
          "execution_count": 8
        }
      ],
      "source": [
        "model.train(final, total_examples=model.corpus_count, epochs=1000)"
      ]
    },
    {
      "cell_type": "code",
      "source": [
        "model.wv['musculoskeletal']"
      ],
      "metadata": {
        "id": "QKgnxMEoA-hZ",
        "colab": {
          "base_uri": "https://localhost:8080/"
        },
        "outputId": "cf93d09a-292f-4aeb-ce5f-7942ab259510"
      },
      "execution_count": null,
      "outputs": [
        {
          "output_type": "execute_result",
          "data": {
            "text/plain": [
              "array([-0.93495685, -1.5468062 , -0.19843441, -0.41466212, -1.0929085 ,\n",
              "        0.30389917, -1.3824992 ,  0.6339943 ,  1.2203985 ,  0.43098077,\n",
              "       -2.0824337 , -0.8047467 , -0.3946993 , -0.5284902 , -0.5904067 ,\n",
              "        0.72675574,  1.4707283 , -0.90966034,  0.41897604,  1.4640703 ],\n",
              "      dtype=float32)"
            ]
          },
          "metadata": {},
          "execution_count": 35
        }
      ]
    },
    {
      "cell_type": "code",
      "source": [
        "model.wv.vocab"
      ],
      "metadata": {
        "id": "K5navScWuLJw"
      },
      "execution_count": null,
      "outputs": []
    },
    {
      "cell_type": "code",
      "execution_count": null,
      "metadata": {
        "id": "C7wZKfe5q5pJ",
        "colab": {
          "base_uri": "https://localhost:8080/"
        },
        "outputId": "61971f4f-bee8-4a1e-a98f-7b2fe8733d8c"
      },
      "outputs": [
        {
          "output_type": "stream",
          "name": "stdout",
          "text": [
            "[ 1.0991558  -2.0841153  -0.37625322  0.16168487 -0.5012893   0.2954507\n",
            "  0.06521816 -0.5580998   1.5545704  -0.9482469  -0.17698577  0.5868798\n",
            "  0.0523858  -0.41842246  0.66288465 -0.8329724   1.0022464   0.5140601\n",
            "  0.98566306 -0.5743115 ]\n"
          ]
        }
      ],
      "source": [
        "model.wv.word_vec('pain') #another way to get embeddings of a word."
      ]
    },
    {
      "cell_type": "code",
      "execution_count": null,
      "metadata": {
        "id": "dXfB-ZLIqCNQ"
      },
      "outputs": [],
      "source": [
        "embeddings = dict({})\n",
        "for x in model.wv.vocab:\n",
        "  embeddings[x] = model.wv[x]"
      ]
    },
    {
      "cell_type": "code",
      "execution_count": null,
      "metadata": {
        "id": "bj_7sJJnrG27",
        "colab": {
          "base_uri": "https://localhost:8080/"
        },
        "outputId": "d3f89aba-2d89-400c-bcbb-e602b9ccbb0f"
      },
      "outputs": [
        {
          "output_type": "execute_result",
          "data": {
            "text/plain": [
              "307"
            ]
          },
          "metadata": {},
          "execution_count": 39
        }
      ],
      "source": [
        "len(embeddings)"
      ]
    },
    {
      "cell_type": "code",
      "source": [
        "model.wv.most_similar(\"depression\", topn = 10 )"
      ],
      "metadata": {
        "id": "vQax4HsexDsy"
      },
      "execution_count": null,
      "outputs": []
    },
    {
      "cell_type": "code",
      "execution_count": null,
      "metadata": {
        "id": "YxoLDGQmrN5a",
        "colab": {
          "base_uri": "https://localhost:8080/"
        },
        "outputId": "e16065fd-0025-4462-d1ed-dc408e38db65"
      },
      "outputs": [
        {
          "output_type": "execute_result",
          "data": {
            "text/plain": [
              "307"
            ]
          },
          "metadata": {},
          "execution_count": 41
        }
      ],
      "source": [
        "len(embeddings)"
      ]
    },
    {
      "cell_type": "code",
      "execution_count": null,
      "metadata": {
        "id": "9Y3IXT8vrDWU",
        "colab": {
          "base_uri": "https://localhost:8080/"
        },
        "outputId": "21930002-97ab-4b12-f7c1-31fe2a4e55bc"
      },
      "outputs": [
        {
          "output_type": "execute_result",
          "data": {
            "text/plain": [
              "307"
            ]
          },
          "metadata": {},
          "execution_count": 42
        }
      ],
      "source": [
        "len(model.wv.vocab)"
      ]
    },
    {
      "cell_type": "code",
      "source": [
        "word = embeddings.keys()\n",
        "word"
      ],
      "metadata": {
        "id": "7uYAqkZDAP38"
      },
      "execution_count": null,
      "outputs": []
    },
    {
      "cell_type": "code",
      "source": [
        "word_vector = embeddings.values()\n",
        "word_vector"
      ],
      "metadata": {
        "id": "d7WciDJq_bDk"
      },
      "execution_count": null,
      "outputs": []
    },
    {
      "cell_type": "code",
      "source": [
        " pt = {'words' : word, 'vectors' : word_vector}"
      ],
      "metadata": {
        "id": "EqGpsIwSAvL6"
      },
      "execution_count": null,
      "outputs": []
    },
    {
      "cell_type": "code",
      "source": [
        "ANNdata = pd.DataFrame(data = pt)\n",
        "ANNdata"
      ],
      "metadata": {
        "id": "yKwoYznOBbrN"
      },
      "execution_count": null,
      "outputs": []
    }
  ],
  "metadata": {
    "colab": {
      "collapsed_sections": [],
      "name": "Creating word vector embeddings.ipynb",
      "provenance": []
    },
    "kernelspec": {
      "display_name": "Python 3",
      "name": "python3"
    },
    "language_info": {
      "name": "python"
    }
  },
  "nbformat": 4,
  "nbformat_minor": 0
}